{
  "cells": [
    {
      "cell_type": "markdown",
      "metadata": {
        "id": "uw0_tpBcRBAm"
      },
      "source": [
        "# [GD-6] Word Embedding & Bias\n",
        "## 임베딩 내 편향성 알아보기: 모든 장르 간 편향성 측정해 보기\n",
        "### 학습 목표\n",
        "* 데이터의 편향성에 대한 문제의식을 갖는다.\n",
        "* 임베딩 모델의 편향성을 체크하는 방법 중 하나인 Word Embedding Association Test (WEAT)를 알아본다.\n",
        "* WEAT 수식의 의미를 이해하고 이를 구현해본다.\n",
        "* pre-train된 모델을 불러와서 WEAT score를 구해본다.\n",
        "\n",
        "### 목차          \n",
        "#### 1. 들어가며          \n",
        "  1-1. DTM          \n",
        "  1-2. TF-IDF          \n",
        "  1-3. WEAT(Word Embedding Association Test)          \n",
        "  1-4. WEAT Score 계산식          \n",
        "\n",
        "#### 2. 프로젝트           \n",
        "  2-1. 준비 및 설치          \n",
        "  2-2. 형태소 분석기를 이용하여 품사가 명사인 경우 해당 단어를 추출하기          \n",
        "  2-3. 추출된 결과로 embedding model 만들기          \n",
        "  2-4. target, attribute 단어 셋 만들기          \n",
        "  2-5. WEAT score 계산과 시각화          \n",
        "\n",
        "#### 3. 회고\n",
        "  3-1. 최종 정리          \n",
        "  3-2. 프로젝트를 진행하면서 알아낸 점, 혹은 아직 모호한 점          \n",
        "  3-3. 참고사이트          \n",
        "\n",
        "\n",
        "\n",
        "\n",
        "### 루브릭 평가 기준\n",
        "|평가문항|상세기준|\n",
        "|:---|:---|\n",
        "|1. 주어진 영화 코퍼스를 바탕으로 워드임베딩 모델을 정상적으로 만들었다.|워드임베딩의 most_similar() 메소드 결과가 의미상 바르게 나왔다.|\n",
        "|2. 영화 구분, 장르별로 target, attribute에 대한 대표성있는 단어 셋을 생성하였다.|타당한 방법론을 통해 중복이 잘 제거되고 개념축을 의미적으로 잘 대표하는 단어 셋이 만들어졌다.|\n",
        "|3. WEAT score 계산 및 시각화를 정상적으로 진행하였다.|전체 영화 장르별로 예술/일반 영화에 대한 편향성 WEAT score가 상식에 부합하는 수치로 얻어졌으며 이를 잘 시각화하였다.|   \n",
        "<br/>\n",
        "\n",
        "----\n"
      ]
    },
    {
      "cell_type": "markdown",
      "source": [
        "## 1. 들어가며\n",
        "\n",
        "### 1-1. DTM (Document-Term Matrix, 문서 단어 행렬)\n",
        "* 다수의 문서에서 등장하는 각 단어들의 빈도를 행렬로 표현한 것\n",
        "* 각 문서에 대한 BoW를 하나의 행렬로 만든 것으로 생각할 수 있으며, BoW와 다른 표현 방법이 아니라 BoW 표현을 다수의 문서에 대해서 행렬로 표현하고 부르는 용어\n",
        "\n",
        "\n",
        "### 1-2. TF-IDF(Term Frequency-Inverse Document Frequency, 단어 빈도-역 문서 빈도)\n",
        "* 단어의 빈도와 역 문서 빈도(문서의 빈도에 특정 식을 취함)를 사용하여 DTM 내의 각 단어들마다 중요한 정도를 가중치로 주는 방법\n",
        "* 문서의 유사도를 구하는 작업, 검색 시스템에서 검색 결과의 중요도를 정하는 작업, 문서 내에서 특정 단어의 중요도를 구하는 작업 등에 쓰일 수 있음\n",
        "\n",
        "\n",
        "### 1-3. WEAT(Word Embedding Association Test)\n",
        "* 임베딩 모델의 편향을 측정하는 방식 중 하나\n",
        "\n",
        "### 1-4. WEAT Score 계산식\n",
        "<img src = \"https://drive.google.com/uc?id=1Uyc9oj28QokbJlSzM_mDawWdNPIzxxnZ\">\n",
        "\n",
        "\n"
      ],
      "metadata": {
        "id": "o5vZro5l04Cs"
      }
    },
    {
      "cell_type": "markdown",
      "source": [
        "## 2. 프로젝트 \n",
        "### 2-1. 준비 및 설치"
      ],
      "metadata": {
        "id": "4uDHzDQt2Jak"
      }
    },
    {
      "cell_type": "markdown",
      "source": [
        "#### Google Drive Connect"
      ],
      "metadata": {
        "id": "gtmv06EHS0KE"
      }
    },
    {
      "cell_type": "code",
      "source": [
        "# connect google drive\n",
        "from google.colab import drive\n",
        "drive.mount('/content/drive')"
      ],
      "metadata": {
        "colab": {
          "base_uri": "https://localhost:8080/"
        },
        "outputId": "acd50612-06f7-4d1d-d47c-56b7830115c6",
        "id": "tWRZPFxjS0KE"
      },
      "execution_count": 7,
      "outputs": [
        {
          "output_type": "stream",
          "name": "stdout",
          "text": [
            "Drive already mounted at /content/drive; to attempt to forcibly remount, call drive.mount(\"/content/drive\", force_remount=True).\n"
          ]
        }
      ]
    },
    {
      "cell_type": "markdown",
      "source": [
        "패키지 설치"
      ],
      "metadata": {
        "id": "8jP_maxQSrCE"
      }
    },
    {
      "cell_type": "code",
      "source": [
        "!pip install konlpy"
      ],
      "metadata": {
        "colab": {
          "base_uri": "https://localhost:8080/"
        },
        "id": "Jc3mK9tVSq1V",
        "outputId": "ecdf339a-74d0-432c-c621-be33c75b07d9"
      },
      "execution_count": 8,
      "outputs": [
        {
          "output_type": "stream",
          "name": "stdout",
          "text": [
            "Requirement already satisfied: konlpy in /usr/local/lib/python3.7/dist-packages (0.6.0)\n",
            "Requirement already satisfied: numpy>=1.6 in /usr/local/lib/python3.7/dist-packages (from konlpy) (1.21.5)\n",
            "Requirement already satisfied: JPype1>=0.7.0 in /usr/local/lib/python3.7/dist-packages (from konlpy) (1.3.0)\n",
            "Requirement already satisfied: lxml>=4.1.0 in /usr/local/lib/python3.7/dist-packages (from konlpy) (4.2.6)\n",
            "Requirement already satisfied: typing-extensions in /usr/local/lib/python3.7/dist-packages (from JPype1>=0.7.0->konlpy) (3.10.0.2)\n"
          ]
        }
      ]
    },
    {
      "cell_type": "markdown",
      "source": [
        "### 라이브러리 버전을 확인해 봅니다\n",
        "사용할 라이브러리 버전을 둘러봅시다.\n",
        "\n",
        "#### 라이브러리 권장 버전\n",
        "* konlpy == 0.5.2\n",
        "* gensim == 4.1.2\n",
        "* sklearn == 1.0\n",
        "* seaborn == 0.11.2"
      ],
      "metadata": {
        "id": "q07L2FVbNPjJ"
      }
    },
    {
      "cell_type": "code",
      "source": [
        "import konlpy\n",
        "import gensim\n",
        "import sklearn\n",
        "import seaborn\n",
        "\n",
        "print(konlpy.__version__)\n",
        "print(gensim.__version__)\n",
        "print(sklearn.__version__)\n",
        "print(seaborn.__version__)"
      ],
      "metadata": {
        "colab": {
          "base_uri": "https://localhost:8080/"
        },
        "id": "tXeccJsmNSOo",
        "outputId": "34c017e8-d76a-456e-dbc0-36718a8b696a"
      },
      "execution_count": 9,
      "outputs": [
        {
          "output_type": "stream",
          "name": "stdout",
          "text": [
            "0.6.0\n",
            "3.6.0\n",
            "1.0.2\n",
            "0.11.2\n"
          ]
        }
      ]
    },
    {
      "cell_type": "code",
      "source": [
        "import numpy as np\n",
        "from numpy import dot\n",
        "from numpy.linalg import norm"
      ],
      "metadata": {
        "id": "m0aetx8TU5MW"
      },
      "execution_count": 10,
      "outputs": []
    },
    {
      "cell_type": "code",
      "source": [
        "import os\n",
        "\n",
        "file_path = '/content/drive/MyDrive/ColabNotebooks/GoingDeeper/GD_6/weat/synopsis.txt'\n",
        "\n",
        "\n",
        "with open(file_path, 'r') as file:\n",
        "    for i in range(20):\n",
        "        print(file.readline(), end='')"
      ],
      "metadata": {
        "colab": {
          "base_uri": "https://localhost:8080/"
        },
        "id": "7pmHiXzwVG6e",
        "outputId": "fc3f5905-715a-457d-c7aa-f027f621752d"
      },
      "execution_count": 11,
      "outputs": [
        {
          "output_type": "stream",
          "name": "stdout",
          "text": [
            "사운드 엔지니어 상우(유지태 분)는 치매에 걸린 할머니(백성희 분)와\n",
            " 젊은 시절 상처한 한 아버지(박인환 분), 고모(신신애 분)와 함께 살고 있다.\n",
            " 어느 겨울 그는 지방 방송국 라디오 PD 은수(이영애 분)를 만난다.\n",
            " 자연의 소리를 채집해 틀어주는 라디오 프로그램을 준비하는 은수는 상우와 녹음 여행을 떠난다.\n",
            " 자연스레 가까워지는 두 사람은 어느 날, 은수의 아파트에서 밤을 보낸다.\n",
            " 너무 쉽게 사랑에 빠진 두 사람... 상우는 주체할 수 없을 정도로 그녀에게 빨려든다.\n",
            " 그러나 겨울에 만난 두 사람의 관계는 봄을 지나 여름을 맞이하면서 삐걱거린다.\n",
            " 이혼 경험이 있는 은수는 상우에게 결혼할 생각이 없다며 부담스러운 표정을 내비친다.\n",
            " \"어떻게 사랑이 변하니?...\"라고 묻는 상우에게 은수는 그저 \"헤어져\" 라고 단호하게 말한다.\n",
            " 영원히 변할 것 같지 않던 사랑이 변하고, 그 사실을 받아들이지 못하는 상우는 어찌 할 바를 모른다.\n",
            " 은수를 잊지 못하는 상우는 미련과 집착의 감정을 이기지 못하고 서울과 강릉을 오간다.\n",
            "유사 이래 연령, 성별, 빈부의 차이와 정치적인 입장을 불문하고 일거에 국민을 통합해 온 '애국심'이라는 성역에 일침을 가하는 다큐멘터리. 재작년 전국 민족민주 유가족협의회의 장기농성을 다룬 인상적인 다큐멘터리 <민들레>를 만들었던 독립영화집단 '빨간 눈사람'이 우리 사회 구석구석을 발빠르게 돌아다니며 애국심과 민족주의가 강요되는 현장을 발굴하여 카메라에 담았다. 박홍 서강대 명예총장, 이도형 '한국논단' 발행인, 축구해설자 신문선, 홍세화, 박노해 등 사회 각계의 '스타'들이 등장해 저마다의 확고한 신념을 성토한다. 감독 이경순과 최하동하는 이 작품을 위해 3년간 백여 명을 인터뷰했다고 한다. 2001 올해의 독립영화상 수상.\n",
            " 민족과 국가란 공동체에서 부단히 권력과 부를 얻는 자, 나아가 민족과 국가란 공동체에서 얻은 신분과 부귀를 영원히 그의 자손에게 대물림하려는 자, 그래서 민족과 국가란 공동체를 부단히 유지해야만 하는 자, 따라서 민족과 국가란 공동체의 당위성과 개인의 가치를 초월하는 그 존엄성을 끝도 없이 창조하고 되뇌어야 하는 자, 종국에는 민족과 국가란 공동체에 속해 있다고 태내에서부터 세뇌된 모든 이들의 삶과 행동에서 영원히 자기복제되는 순환의 고리, 영생하는 애국의 원동력은 그 순환의 골에서 온다.\n",
            "엽기적인 살인사건이 발생한 장소를 관광하는 투어팀. 그 팀에서 관광객들은 살인사건과 관련하여 히스테리컬한 반응을 보이는데 과연 이들의 정체는? (Tourists see whrer a murder take place. They respond hysterically to the murder…what are they?)\n",
            " 제46회 발라돌리드 국제영화제 (2001, 스페인)\n",
            "착하지만 엉뚱한 태희(배두나 분), 예쁜 깍쟁이 혜주(이요원 분), 그림을 잘 그리는 지영(옥지영 분), 명랑한 쌍둥이 비류(이은실 분)와 온조(이은주 분)는 단짝친구들. 늘 함께였던 그들이지만 스무 살이 되면서 길이 달라진다. 증권회사에 입사한 혜주는 성공한 커리어우먼의 야심을 키우고 미술에 재능이 있는 지영은 유학을 꿈꾼다. 한편 태희는 봉사활동에서 알게 된 뇌성마비 시인을 좋아하는데...\n",
            "  어느 날 지영이 길 잃은 새끼 고양이 티티를 만남면서 스무 살 그녀들의 삶에 고양이 한 마리가 끼어들게 된다. 혼자 있길 좋아하고, 쉽게 마음을 열지 않는 신비로운 동물 고양이. 고양이를 닮은 스무 살 그녀들. 고양이 티티와 함께 한 시간동안 삶은 예상못한 방향으로 흘러가지만 마침내 그녀들만의 해결책을 찾게 되는데... 사랑스런 몽상가 태희, 아름다운 야심가 혜주, 신비로운 아웃사이더 지영. 마지막으로 고양이를 부탁받은 사람은 누구일까?\n",
            "인도 등 아시아 식민지에 처음 발을 디딘 뒤 여행하고 “경영”한 이들은 과연 누구였을까? 과거의 이미지들은, 이민과 인종 문제, ‘오리엔탈리즘’이 격렬히 충돌하고 있는 현재와 강력하게 공명한다.\n",
            " [제19회 인디다큐페스티발]\n",
            "홀로 살아가는 미국 할머니와 한국 할머니의 이야기. 공원에서 가끔 마주치게 되는 그들은 비록 언어 소통의 어려움을 겪지만 시간이 흘러감에 따라 서로 가까워져 그들의 외로움과 우정을 공유하게 된다. 겨울이 지나고 봄이 왔을 때 길가의 민들레 홀씨는 삶의 이치를 말해주듯 한 할머니의 주위를 맴돈다. (Two elderly widows, an American and a Korean, frequent the same park in Philadelphia and attempt a friendship, though the Korean widow speaks no English. Driven by loneliness and a spark of hope, they persevere within the limits of body language, and the outcome poses a question of life as fundamental as a flower.)\n"
          ]
        }
      ]
    },
    {
      "cell_type": "markdown",
      "source": [
        "### 점수 계산 함수"
      ],
      "metadata": {
        "id": "3dZxc_yA1hVL"
      }
    },
    {
      "cell_type": "code",
      "source": [
        "def cos_sim(i, j):\n",
        "    return dot(i, j.T)/(norm(i)*norm(j))\n",
        "\n",
        "def s(w, A, B):\n",
        "    c_a = cos_sim(w, A)\n",
        "    c_b = cos_sim(w, B)\n",
        "    mean_A = np.mean(c_a, axis=-1)\n",
        "    mean_B = np.mean(c_b, axis=-1)\n",
        "    return mean_A - mean_B #, c_a, c_b"
      ],
      "metadata": {
        "id": "AwQqfekG1gNE"
      },
      "execution_count": 12,
      "outputs": []
    },
    {
      "cell_type": "markdown",
      "source": [
        "### WEAT Score 함수"
      ],
      "metadata": {
        "id": "coy3EREk1mm8"
      }
    },
    {
      "cell_type": "code",
      "source": [
        "def weat_score(X, Y, A, B):\n",
        "    \n",
        "    s_X = s(X, A, B)\n",
        "    s_Y = s(Y, A, B)\n",
        "\n",
        "    mean_X = np.mean(s_X)\n",
        "    mean_Y = np.mean(s_Y)\n",
        "    \n",
        "    std_dev = np.std(np.concatenate([s_X, s_Y], axis=0))\n",
        "    \n",
        "    return  (mean_X-mean_Y)/std_dev\n"
      ],
      "metadata": {
        "id": "ZAUT04NF1oqt"
      },
      "execution_count": 13,
      "outputs": []
    },
    {
      "cell_type": "markdown",
      "source": [
        "### 2-2. 형태소 분석기를 이용하여 품사가 명사인 경우 해당 단어를 추출하기\n"
      ],
      "metadata": {
        "id": "z4UdjeVtTutH"
      }
    },
    {
      "cell_type": "code",
      "source": [
        "# 약 15분정도 걸립니다.\n",
        "from konlpy.tag import Okt\n",
        "okt = Okt()\n",
        "tokenized = []\n",
        "with open(file_path, 'r') as file:\n",
        "    while True:\n",
        "        line = file.readline()\n",
        "        if not line: break\n",
        "        words = okt.pos(line, stem=True, norm=True)\n",
        "        res = []\n",
        "        for w in words:\n",
        "            if w[1] in [\"Noun\"]:      # \"Adjective\", \"Verb\" 등을 포함할 수도 있습니다.\n",
        "                res.append(w[0])    # 명사일 때만 tokenized 에 저장하게 됩니다. \n",
        "        tokenized.append(res)\n"
      ],
      "metadata": {
        "id": "J_L14YJvTvXC"
      },
      "execution_count": 14,
      "outputs": []
    },
    {
      "cell_type": "code",
      "source": [
        "print(len(tokenized))"
      ],
      "metadata": {
        "colab": {
          "base_uri": "https://localhost:8080/"
        },
        "id": "ihiYZ2q8Tv9l",
        "outputId": "f0f4af69-86a0-42cb-f1c3-047d8b74257d"
      },
      "execution_count": 16,
      "outputs": [
        {
          "output_type": "stream",
          "name": "stdout",
          "text": [
            "71156\n"
          ]
        }
      ]
    },
    {
      "cell_type": "markdown",
      "source": [
        "### 2-3. 추출된 결과로 embedding model 만들기\n"
      ],
      "metadata": {
        "id": "P48B-AunTvwU"
      }
    },
    {
      "cell_type": "code",
      "source": [
        "from gensim.models import Word2Vec\n",
        "\n",
        "# # tokenized에 담긴 데이터를 가지고 나만의 Word2Vec을 생성합니다. (Gensim 4.0 기준)\n",
        "# model = Word2Vec(tokenized, vector_size=100, window=5, min_count=3, sg=0)  \n",
        "# model.wv.most_similar(positive=['영화'])\n",
        "\n",
        "# Gensim 3.X 에서는 아래와 같이 생성합니다. \n",
        "model = Word2Vec(tokenized, size=100, window=5, min_count=3, sg=0)  \n",
        "model.most_similar(positive=['영화'])"
      ],
      "metadata": {
        "colab": {
          "base_uri": "https://localhost:8080/"
        },
        "id": "JFWQD4p4TywQ",
        "outputId": "0e807382-eab0-49ab-9abf-3da2cccbf109"
      },
      "execution_count": 17,
      "outputs": [
        {
          "output_type": "stream",
          "name": "stderr",
          "text": [
            "/usr/local/lib/python3.7/dist-packages/ipykernel_launcher.py:9: DeprecationWarning: Call to deprecated `most_similar` (Method will be removed in 4.0.0, use self.wv.most_similar() instead).\n",
            "  if __name__ == '__main__':\n"
          ]
        },
        {
          "output_type": "execute_result",
          "data": {
            "text/plain": [
              "[('작품', 0.9095625877380371),\n",
              " ('다큐멘터리', 0.8650466203689575),\n",
              " ('드라마', 0.8257701992988586),\n",
              " ('영화로', 0.8172327280044556),\n",
              " ('주제', 0.8116244077682495),\n",
              " ('편의', 0.80950927734375),\n",
              " ('형식', 0.8044781684875488),\n",
              " ('코미디', 0.799643874168396),\n",
              " ('인터뷰', 0.7960782647132874),\n",
              " ('감동', 0.7940760254859924)]"
            ]
          },
          "metadata": {},
          "execution_count": 17
        }
      ]
    },
    {
      "cell_type": "markdown",
      "source": [
        "#### Word2Vec 훈련 확인하기"
      ],
      "metadata": {
        "id": "8m7a3_bnXr28"
      }
    },
    {
      "cell_type": "code",
      "source": [
        "model.wv.most_similar(positive=['사랑'])"
      ],
      "metadata": {
        "colab": {
          "base_uri": "https://localhost:8080/"
        },
        "id": "4Y1y7DcJXrRs",
        "outputId": "b819dda8-8e21-43fa-8143-aef6354242a4"
      },
      "execution_count": 18,
      "outputs": [
        {
          "output_type": "execute_result",
          "data": {
            "text/plain": [
              "[('첫사랑', 0.7185068726539612),\n",
              " ('애정', 0.7094748616218567),\n",
              " ('행복', 0.7081434726715088),\n",
              " ('진심', 0.7066642642021179),\n",
              " ('고백', 0.7050427794456482),\n",
              " ('연애', 0.6980818510055542),\n",
              " ('만남', 0.6973499059677124),\n",
              " ('이별', 0.6950281858444214),\n",
              " ('가슴', 0.6946638226509094),\n",
              " ('우정', 0.6906588077545166)]"
            ]
          },
          "metadata": {},
          "execution_count": 18
        }
      ]
    },
    {
      "cell_type": "code",
      "source": [
        "model.wv.most_similar(positive=['연극'])"
      ],
      "metadata": {
        "colab": {
          "base_uri": "https://localhost:8080/"
        },
        "id": "aApsckJVXxcX",
        "outputId": "dfa1ec9a-4e2f-456d-e500-e1485df58736"
      },
      "execution_count": 19,
      "outputs": [
        {
          "output_type": "execute_result",
          "data": {
            "text/plain": [
              "[('영감', 0.9099012613296509),\n",
              " ('영화감독', 0.9085037708282471),\n",
              " ('시나리오', 0.8975505828857422),\n",
              " ('데뷔', 0.8887429237365723),\n",
              " ('각색', 0.8876742124557495),\n",
              " ('영화로', 0.8820352554321289),\n",
              " ('대본', 0.8818953037261963),\n",
              " ('배우', 0.8773338794708252),\n",
              " ('예술가', 0.8731344938278198),\n",
              " ('출연', 0.8696432113647461)]"
            ]
          },
          "metadata": {},
          "execution_count": 19
        }
      ]
    },
    {
      "cell_type": "markdown",
      "source": [
        "\n",
        "### 2-4. target, attribute 단어 셋 만들기\n",
        "이전 스텝에서는 TF-IDF를 사용해서 단어 셋을 만들었습니다. 이 방법으로도 어느 정도는 대표 단어를 잘 선정할 수 있습니다. 그러나 TF-IDF가 높은 단어를 골랐음에도 불구하고 중복되는 단어가 발생하는 문제가 있었습니다. 개념축을 표현하는 단어가 제대로 선정되지 않은 것은 WEAT 계산 결과에 악영향을 미칩니다.\n",
        "\n",
        "TF-IDF를 적용했을 때의 문제점이 무엇인지 지적 가능하다면 그 문제점을 지적하고 스스로 방법을 개선하여 대표 단어 셋을 구축해 보기 바랍니다. TF-IDF 방식을 쓰더라도 중복된 단어를 잘 제거하면 여전히 유용한 방식이 될 수 있습니다."
      ],
      "metadata": {
        "id": "OuHHWzEJNU0g"
      }
    },
    {
      "cell_type": "code",
      "source": [
        "import os\n",
        "from sklearn.feature_extraction.text import TfidfVectorizer\n",
        "import numpy as np\n",
        "from konlpy.tag import Okt\n",
        "\n",
        "file_dir = '/content/drive/MyDrive/ColabNotebooks/GoingDeeper/GD_6/weat/'\n",
        "art_txt = 'synopsis_art.txt'\n",
        "gen_txt = 'synopsis_gen.txt'\n",
        "\n",
        "def read_token(file_name):\n",
        "    okt = Okt()\n",
        "    result = []\n",
        "    with open(file_dir + file_name, 'r') as fread: \n",
        "        print(file_name, '파일을 읽고 있습니다.')\n",
        "        while True:\n",
        "            line = fread.readline() \n",
        "            if not line: break \n",
        "            tokenlist = okt.pos(line, stem=True, norm=True) \n",
        "            for word in tokenlist:\n",
        "                if word[1] in [\"Noun\"]:#, \"Adjective\", \"Verb\"]:\n",
        "                    result.append((word[0])) \n",
        "    return ' '.join(result)\n"
      ],
      "metadata": {
        "id": "SNlpNG5U4W7j"
      },
      "execution_count": 20,
      "outputs": []
    },
    {
      "cell_type": "code",
      "source": [
        "# 2개의 파일을 처리하는데 10분 가량 걸립니다. \n",
        "art = read_token(art_txt)\n",
        "gen = read_token(gen_txt)"
      ],
      "metadata": {
        "colab": {
          "base_uri": "https://localhost:8080/"
        },
        "id": "aWe0-q4t44UI",
        "outputId": "52432d11-9edf-4151-ba8b-eeda16096170"
      },
      "execution_count": 21,
      "outputs": [
        {
          "output_type": "stream",
          "name": "stdout",
          "text": [
            "synopsis_art.txt 파일을 읽고 있습니다.\n",
            "synopsis_gen.txt 파일을 읽고 있습니다.\n"
          ]
        }
      ]
    },
    {
      "cell_type": "markdown",
      "source": [
        "#### TF-IDF 방식 사용해서 단어 셋 만들기\n"
      ],
      "metadata": {
        "id": "ufc5AX9R5G4B"
      }
    },
    {
      "cell_type": "code",
      "source": [
        "vectorizer = TfidfVectorizer()\n",
        "X = vectorizer.fit_transform([art, gen])\n",
        "\n",
        "print(X.shape)"
      ],
      "metadata": {
        "colab": {
          "base_uri": "https://localhost:8080/"
        },
        "id": "JjLoJgUk5KLd",
        "outputId": "dbf08a6b-b42f-43ef-f6b6-bbcb0d56bb7a"
      },
      "execution_count": 22,
      "outputs": [
        {
          "output_type": "stream",
          "name": "stdout",
          "text": [
            "(2, 41082)\n"
          ]
        }
      ]
    },
    {
      "cell_type": "code",
      "source": [
        "print(vectorizer.vocabulary_['영화'])\n",
        "print(vectorizer.get_feature_names()[23976])"
      ],
      "metadata": {
        "colab": {
          "base_uri": "https://localhost:8080/"
        },
        "id": "RpNo5oLV5Pxj",
        "outputId": "3e9b30e1-4c26-4a90-f065-566219ace987"
      },
      "execution_count": 23,
      "outputs": [
        {
          "output_type": "stream",
          "name": "stdout",
          "text": [
            "23976\n",
            "영화\n"
          ]
        },
        {
          "output_type": "stream",
          "name": "stderr",
          "text": [
            "/usr/local/lib/python3.7/dist-packages/sklearn/utils/deprecation.py:87: FutureWarning: Function get_feature_names is deprecated; get_feature_names is deprecated in 1.0 and will be removed in 1.2. Please use get_feature_names_out instead.\n",
            "  warnings.warn(msg, category=FutureWarning)\n"
          ]
        }
      ]
    },
    {
      "cell_type": "markdown",
      "source": [
        "#### 두 개념을 대표하는 단어를 TF-IDF가 높은 순으로 추출"
      ],
      "metadata": {
        "id": "aaI_ejEV5aFL"
      }
    },
    {
      "cell_type": "code",
      "source": [
        "m1 = X[0].tocoo()   # art를 TF-IDF로 표현한 sparse matrix를 가져옵니다. \n",
        "m2 = X[1].tocoo()   # gen을 TF-IDF로 표현한 sparse matrix를 가져옵니다. \n",
        "\n",
        "w1 = [[i, j] for i, j in zip(m1.col, m1.data)]\n",
        "w2 = [[i, j] for i, j in zip(m2.col, m2.data)]\n",
        "\n",
        "w1.sort(key=lambda x: x[1], reverse=True)   #art를 구성하는 단어들을 TF-IDF가 높은 순으로 정렬합니다. \n",
        "w2.sort(key=lambda x: x[1], reverse=True)   #gen을 구성하는 단어들을 TF-IDF가 높은 순으로 정렬합니다. \n",
        "\n",
        "print('예술영화를 대표하는 단어들:')\n",
        "for i in range(100):\n",
        "    print(vectorizer.get_feature_names()[w1[i][0]], end=', ')\n",
        "\n",
        "print('\\n')\n",
        "    \n",
        "print('일반영화를 대표하는 단어들:')\n",
        "for i in range(100):\n",
        "    print(vectorizer.get_feature_names()[w2[i][0]], end=', ')"
      ],
      "metadata": {
        "colab": {
          "base_uri": "https://localhost:8080/"
        },
        "id": "0OUKg1Jg5UcP",
        "outputId": "a0129931-a546-48f5-ee6c-3642dcbd99a0"
      },
      "execution_count": 24,
      "outputs": [
        {
          "output_type": "stream",
          "name": "stdout",
          "text": [
            "예술영화를 대표하는 단어들:\n",
            "그녀, "
          ]
        },
        {
          "output_type": "stream",
          "name": "stderr",
          "text": [
            "/usr/local/lib/python3.7/dist-packages/sklearn/utils/deprecation.py:87: FutureWarning: Function get_feature_names is deprecated; get_feature_names is deprecated in 1.0 and will be removed in 1.2. Please use get_feature_names_out instead.\n",
            "  warnings.warn(msg, category=FutureWarning)\n"
          ]
        },
        {
          "output_type": "stream",
          "name": "stdout",
          "text": [
            "자신, 시작, 위해, 사랑, 사람, 영화, 친구, 남자, 가족, 이야기, 마을, 사건, 마음, 세상, 아버지, 아이, 엄마, 모든, 여자, 대한, 서로, 과연, 다시, 시간, 아들, 소녀, 아내, 다른, 사이, 영화제, 세계, 사실, 하나, 점점, 남편, 감독, 여행, 인생, 발견, 모두, 순간, 우리, 가장, 마지막, 생활, 아빠, 모습, 통해, 죽음, 기억, 비밀, 학교, 음악, 한편, 소년, 생각, 도시, 명의, 사고, 결혼, 전쟁, 때문, 위기, 이제, 최고, 이자, 과거, 일상, 경찰, 상황, 간다, 미국, 결심, 운명, 현실, 관계, 지금, 단편, 여인, 하루, 이름, 이후, 준비, 인간, 감정, 만난, 국제, 처음, 충격, 살인, 누구, 동안, 존재, 그린, 어머니, 연인, 계속, 동생, 작품, \n",
            "\n",
            "일반영화를 대표하는 단어들:\n",
            "자신, 그녀, 영화제, 위해, 사람, 시작, 국제, 영화, 친구, 사랑, 남자, 이야기, 대한, 서울, 여자, 사건, 남편, 아이, 가족, 아버지, 다른, 마을, 시간, 엄마, 아들, 모든, 단편, 마음, 사실, 다시, 세계, 모습, 작품, 통해, 생각, 서로, 세상, 발견, 감독, 아내, 관계, 소녀, 사이, 하나, 우리, 애니메이션, 때문, 여성, 죽음, 과연, 점점, 인간, 생활, 한편, 결혼, 상황, 모두, 기억, 명의, 소년, 여행, 가장, 간다, 순간, 이제, 도시, 비밀, 학교, 과거, 가지, 이자, 경찰, 마지막, 미국, 동안, 전쟁, 주인공, 대해, 존재, 현실, 연출, 사고, 살인, 일상, 어머니, 계속, 사회, 인생, 다큐멘터리, 부문, 섹스, 최고, 바로, 동생, 의도, 하루, 위기, 계획, 정체, 한국, "
          ]
        }
      ]
    },
    {
      "cell_type": "markdown",
      "source": [
        "#### 상위 100개 단어들 중 중복되는 단어 제외하고 상위 n개 단어 추출"
      ],
      "metadata": {
        "id": "Hu-pd_xn5lyf"
      }
    },
    {
      "cell_type": "code",
      "source": [
        "n = 15\n",
        "w1_, w2_ = [], []\n",
        "for i in range(100):\n",
        "    w1_.append(vectorizer.get_feature_names()[w1[i][0]])\n",
        "    w2_.append(vectorizer.get_feature_names()[w2[i][0]])\n",
        "\n",
        "# w1에만 있고 w2에는 없는, 예술영화를 잘 대표하는 단어를 15개 추출한다.\n",
        "target_art, target_gen = [], []\n",
        "for i in range(100):\n",
        "    if (w1_[i] not in w2_) and (w1_[i] in model.wv): target_art.append(w1_[i])\n",
        "    if len(target_art) == n: break \n",
        "\n",
        "# w2에만 있고 w1에는 없는, 일반영화를 잘 대표하는 단어를 15개 추출한다.\n",
        "for i in range(100):\n",
        "    if (w2_[i] not in w1_) and (w2_[i] in model.wv): target_gen.append(w2_[i])\n",
        "    if len(target_gen) == n: break"
      ],
      "metadata": {
        "colab": {
          "base_uri": "https://localhost:8080/"
        },
        "id": "8nAvVs4y5pf5",
        "outputId": "66d6662f-054e-49a1-a4d5-3a1ab8ef0025"
      },
      "execution_count": 25,
      "outputs": [
        {
          "output_type": "stream",
          "name": "stderr",
          "text": [
            "/usr/local/lib/python3.7/dist-packages/sklearn/utils/deprecation.py:87: FutureWarning: Function get_feature_names is deprecated; get_feature_names is deprecated in 1.0 and will be removed in 1.2. Please use get_feature_names_out instead.\n",
            "  warnings.warn(msg, category=FutureWarning)\n"
          ]
        }
      ]
    },
    {
      "cell_type": "markdown",
      "source": [
        "#### 추출된 단어 살펴보기"
      ],
      "metadata": {
        "id": "ZIgjfUtE5us9"
      }
    },
    {
      "cell_type": "code",
      "source": [
        "print(target_art)"
      ],
      "metadata": {
        "colab": {
          "base_uri": "https://localhost:8080/"
        },
        "id": "fiLsRHmU5sGS",
        "outputId": "88d9bca8-4fc2-4d9d-91af-4958c97650d8"
      },
      "execution_count": 26,
      "outputs": [
        {
          "output_type": "stream",
          "name": "stdout",
          "text": [
            "['아빠', '음악', '결심', '운명', '지금', '여인', '이름', '이후', '준비', '감정', '만난', '처음', '충격', '누구', '그린']\n"
          ]
        }
      ]
    },
    {
      "cell_type": "code",
      "source": [
        "print(target_gen)"
      ],
      "metadata": {
        "colab": {
          "base_uri": "https://localhost:8080/"
        },
        "id": "qOfKTN1z5wri",
        "outputId": "cc0d5799-ed7d-46fc-921a-685b877674e9"
      },
      "execution_count": 27,
      "outputs": [
        {
          "output_type": "stream",
          "name": "stdout",
          "text": [
            "['서울', '애니메이션', '여성', '가지', '주인공', '대해', '연출', '사회', '다큐멘터리', '부문', '섹스', '바로', '의도', '계획', '정체']\n"
          ]
        }
      ]
    },
    {
      "cell_type": "markdown",
      "source": [
        "#### 장르별 대표 단어 추출"
      ],
      "metadata": {
        "id": "PyENsnRV5yS5"
      }
    },
    {
      "cell_type": "code",
      "source": [
        "genre_txt = ['synopsis_SF.txt', 'synopsis_family.txt', 'synopsis_show.txt', 'synopsis_horror.txt', 'synopsis_etc.txt', \n",
        "             'synopsis_documentary.txt', 'synopsis_drama.txt', 'synopsis_romance.txt', 'synopsis_musical.txt', \n",
        "             'synopsis_mystery.txt', 'synopsis_crime.txt', 'synopsis_historical.txt', 'synopsis_western.txt', \n",
        "             'synopsis_adult.txt', 'synopsis_thriller.txt', 'synopsis_animation.txt', 'synopsis_action.txt', \n",
        "             'synopsis_adventure.txt', 'synopsis_war.txt', 'synopsis_comedy.txt', 'synopsis_fantasy.txt']\n",
        "genre_name = ['SF', '가족', '공연', '공포(호러)', '기타', '다큐멘터리', '드라마', '멜로로맨스', '뮤지컬', '미스터리', '범죄', '사극', '서부극(웨스턴)',\n",
        "         '성인물(에로)', '스릴러', '애니메이션', '액션', '어드벤처', '전쟁', '코미디', '판타지']"
      ],
      "metadata": {
        "id": "Zd15rWt2NSrL"
      },
      "execution_count": 28,
      "outputs": []
    },
    {
      "cell_type": "code",
      "source": [
        "# 약 10분정도 걸립니다.\n",
        "genre = []\n",
        "for file_name in genre_txt:\n",
        "    genre.append(read_token(file_name))"
      ],
      "metadata": {
        "colab": {
          "base_uri": "https://localhost:8080/"
        },
        "id": "KBLEsW7Y57Y8",
        "outputId": "3b90b166-a991-4e2a-bac6-22aca57dea45"
      },
      "execution_count": 29,
      "outputs": [
        {
          "output_type": "stream",
          "name": "stdout",
          "text": [
            "synopsis_SF.txt 파일을 읽고 있습니다.\n",
            "synopsis_family.txt 파일을 읽고 있습니다.\n",
            "synopsis_show.txt 파일을 읽고 있습니다.\n",
            "synopsis_horror.txt 파일을 읽고 있습니다.\n",
            "synopsis_etc.txt 파일을 읽고 있습니다.\n",
            "synopsis_documentary.txt 파일을 읽고 있습니다.\n",
            "synopsis_drama.txt 파일을 읽고 있습니다.\n",
            "synopsis_romance.txt 파일을 읽고 있습니다.\n",
            "synopsis_musical.txt 파일을 읽고 있습니다.\n",
            "synopsis_mystery.txt 파일을 읽고 있습니다.\n",
            "synopsis_crime.txt 파일을 읽고 있습니다.\n",
            "synopsis_historical.txt 파일을 읽고 있습니다.\n",
            "synopsis_western.txt 파일을 읽고 있습니다.\n",
            "synopsis_adult.txt 파일을 읽고 있습니다.\n",
            "synopsis_thriller.txt 파일을 읽고 있습니다.\n",
            "synopsis_animation.txt 파일을 읽고 있습니다.\n",
            "synopsis_action.txt 파일을 읽고 있습니다.\n",
            "synopsis_adventure.txt 파일을 읽고 있습니다.\n",
            "synopsis_war.txt 파일을 읽고 있습니다.\n",
            "synopsis_comedy.txt 파일을 읽고 있습니다.\n",
            "synopsis_fantasy.txt 파일을 읽고 있습니다.\n"
          ]
        }
      ]
    },
    {
      "cell_type": "code",
      "source": [
        "vectorizer = TfidfVectorizer()\n",
        "X = vectorizer.fit_transform(genre)\n",
        "\n",
        "print(X.shape)"
      ],
      "metadata": {
        "colab": {
          "base_uri": "https://localhost:8080/"
        },
        "id": "GkU9Q5wU5-LU",
        "outputId": "574b247e-6ffe-4379-b9b4-788a1a88f3eb"
      },
      "execution_count": 30,
      "outputs": [
        {
          "output_type": "stream",
          "name": "stdout",
          "text": [
            "(21, 42191)\n"
          ]
        }
      ]
    },
    {
      "cell_type": "code",
      "source": [
        "m = [X[i].tocoo() for i in range(X.shape[0])]\n",
        "\n",
        "w = [[[i, j] for i, j in zip(mm.col, mm.data)] for mm in m]\n",
        "\n",
        "for i in range(len(w)):\n",
        "    w[i].sort(key=lambda x: x[1], reverse=True)\n",
        "attributes = []\n",
        "for i in range(len(w)):\n",
        "    print(genre_name[i], end=': ')\n",
        "    attr = []\n",
        "    j = 0\n",
        "    while (len(attr) < 15):\n",
        "        if vectorizer.get_feature_names()[w[i][j][0]] in model.wv:\n",
        "            attr.append(vectorizer.get_feature_names()[w[i][j][0]])\n",
        "            print(vectorizer.get_feature_names()[w[i][j][0]], end=', ')\n",
        "        j += 1\n",
        "    attributes.append(attr)\n",
        "    print()"
      ],
      "metadata": {
        "colab": {
          "base_uri": "https://localhost:8080/"
        },
        "id": "3UMFRJKY5_xI",
        "outputId": "0c154613-97bf-475d-ae04-469a87b2907a"
      },
      "execution_count": 31,
      "outputs": [
        {
          "output_type": "stream",
          "name": "stdout",
          "text": [
            "SF: 위해, "
          ]
        },
        {
          "output_type": "stream",
          "name": "stderr",
          "text": [
            "/usr/local/lib/python3.7/dist-packages/sklearn/utils/deprecation.py:87: FutureWarning: Function get_feature_names is deprecated; get_feature_names is deprecated in 1.0 and will be removed in 1.2. Please use get_feature_names_out instead.\n",
            "  warnings.warn(msg, category=FutureWarning)\n"
          ]
        },
        {
          "output_type": "stream",
          "name": "stdout",
          "text": [
            "자신, 지구, 시작, 사람, 인류, 인간, 미래, 우주, 그녀, 로봇, 세계, 모든, 박사, 우주선, \n",
            "가족: 엄마, 아빠, 가족, 영화제, 자신, 위해, 친구, 아주르, 아버지, 시작, 그녀, 아들, 마을, 국제, 낙타, \n",
            "공연: 오페라, 사랑, 토스카, 실황, 올레, 자신, 카바, 그녀, 공연, 오텔로, 리골레토, 백작, 프레, 베르디, 위해, \n",
            "공포(호러): 시작, 위해, 사람, 자신, 친구, 그녀, 사건, 공포, 발견, 죽음, 마을, 가족, 악령, 남자, 좀비, \n",
            "기타: 영화제, 국제, 서울, 단편, 영화, 자신, 사람, 이야기, 그녀, 남자, 위해, 시작, 사랑, 뉴미디어, 페스티벌, \n",
            "다큐멘터리: 영화제, 영화, 다큐, 국제, 다큐멘터리, 사람, 이야기, 대한, 자신, 감독, 위해, 서울, 우리, 시작, 세계, \n",
            "드라마: 자신, 영화제, 그녀, 사람, 사랑, 영화, 위해, 시작, 국제, 남자, 친구, 이야기, 엄마, 여자, 아버지, \n",
            "멜로로맨스: 그녀, 사랑, 자신, 시작, 남편, 남자, 여자, 사람, 친구, 섹스, 위해, 마음, 결혼, 서로, 아내, \n",
            "뮤지컬: 뮤지컬, 사랑, 에스메랄다, 그녀, 음악, 충무로, 모차르트, 영화, 토스카, 자신, 니웨, 카바, 영화제, 바흐, 페뷔스, \n",
            "미스터리: 사건, 그녀, 시작, 자신, 위해, 사람, 발견, 사고, 진실, 죽음, 기억, 살인, 친구, 아내, 남자, \n",
            "범죄: 사건, 위해, 자신, 경찰, 시작, 그녀, 범죄, 조직, 살인, 사람, 마약, 형사, 남자, 모든, 살해, \n",
            "사극: 조선, 위해, 시작, 신기전, 사랑, 자신, 아가멤논, 황제, 그녀, 루안, 최고, 운명, 사람, 하선, 전쟁, \n",
            "서부극(웨스턴): 서부, 보안관, 위해, 벌린, 카우보이, 그레이프바인, 헨리, 마을, 자신, 개릿, 아이, 시작, 무법자, 프린트, 마적, \n",
            "성인물(에로): 그녀, 남편, 마사지, 자신, 섹스, 관계, 영화, 정사, 남자, 위해, 시작, 여자, 유부녀, 마음, 사랑, \n",
            "스릴러: 자신, 그녀, 사건, 시작, 위해, 사람, 살인, 남자, 발견, 아내, 경찰, 친구, 모든, 사실, 살해, \n",
            "애니메이션: 애니메이션, 국제, 영화제, 친구, 인디애니페스트, 위해, 자신, 시작, 사람, 페스티벌, 서울, 이야기, 아이, 마을, 소녀, \n",
            "액션: 위해, 자신, 시작, 조직, 사건, 사람, 그녀, 경찰, 전쟁, 모든, 목숨, 사실, 친구, 가족, 요원, \n",
            "어드벤처: 위해, 자신, 시작, 친구, 마을, 아버지, 영화, 아이, 사람, 여행, 세계, 앤트, 세상, 가족, 모험, \n",
            "전쟁: 전쟁, 독일군, 전투, 위해, 작전, 시작, 부대, 윈터스, 독일, 연합군, 미군, 임무, 자신, 사람, 나치, \n",
            "코미디: 그녀, 자신, 시작, 위해, 사랑, 사람, 친구, 영화, 남자, 여자, 영화제, 가족, 과연, 마을, 사건, \n",
            "판타지: 자신, 그녀, 시작, 위해, 사람, 사랑, 요괴, 영화제, 이야기, 영화, 소녀, 남자, 인간, 세상, 마을, \n"
          ]
        }
      ]
    },
    {
      "cell_type": "markdown",
      "source": [
        "### 2-5. WEAT score 계산과 시각화\n",
        "영화 구분, 영화 장르에 따른 편향성을 측정하여 WEAT score로 계산해 보고 이를 Heatmap 형태로 시각화해 봅시다. 편향성이 두드러지는 영화장르 attribute 구성에는 어떤 케이스가 있는지 시각적으로 두드러지게 구성되면 좋습니다.\n",
        "\n",
        "\n",
        "* Target : 영화 구분\n",
        "  * 예술영화\n",
        "  * 일반영화(상업영화)\n",
        "  \n",
        "* Attribute : 장르 구분\n",
        "  * 영화 모든 장르\n"
      ],
      "metadata": {
        "id": "9w9ssrQWNeUf"
      }
    },
    {
      "cell_type": "markdown",
      "source": [
        "#### Matrix 채우기"
      ],
      "metadata": {
        "id": "-ELcti9ZMQOt"
      }
    },
    {
      "cell_type": "code",
      "execution_count": 32,
      "metadata": {
        "id": "xQLgZ-1nMQOt"
      },
      "outputs": [],
      "source": [
        "matrix = [[0 for _ in range(len(genre_name))] for _ in range(len(genre_name))]"
      ]
    },
    {
      "cell_type": "code",
      "source": [
        "X = np.array([model.wv[word] for word in target_art])\n",
        "Y = np.array([model.wv[word] for word in target_gen])\n",
        "\n",
        "for i in range(len(genre_name)-1):\n",
        "    for j in range(i+1, len(genre_name)):\n",
        "        A = np.array([model.wv[word] for word in attributes[i]])\n",
        "        B = np.array([model.wv[word] for word in attributes[j]])\n",
        "        matrix[i][j] = weat_score(X, Y, A, B)\n"
      ],
      "metadata": {
        "id": "gBIvbfl46QF7"
      },
      "execution_count": 33,
      "outputs": []
    },
    {
      "cell_type": "markdown",
      "source": [
        "#### WEAT Score 값 살펴보기"
      ],
      "metadata": {
        "id": "uQmo2uD7MQOt"
      }
    },
    {
      "cell_type": "code",
      "execution_count": 34,
      "metadata": {
        "id": "WGEH3FKVMQOu",
        "colab": {
          "base_uri": "https://localhost:8080/"
        },
        "outputId": "ee80cf2d-0f13-4d4a-843e-41f85e082249"
      },
      "outputs": [
        {
          "output_type": "stream",
          "name": "stdout",
          "text": [
            "SF 가족 -0.4873303\n",
            "SF 공연 -0.3841\n",
            "SF 공포(호러) -0.66366357\n",
            "SF 기타 0.35981706\n",
            "SF 다큐멘터리 0.59301364\n",
            "SF 드라마 -0.3774502\n",
            "SF 멜로로맨스 -0.79582375\n",
            "SF 뮤지컬 0.33297488\n",
            "SF 미스터리 -0.68075025\n",
            "SF 범죄 -0.21223049\n",
            "SF 사극 -0.79990983\n",
            "SF 서부극(웨스턴) -0.3928425\n",
            "SF 성인물(에로) -0.59777117\n",
            "SF 스릴러 -0.5158791\n",
            "SF 애니메이션 0.40085548\n",
            "SF 액션 -0.41380998\n",
            "SF 어드벤처 -0.75077116\n",
            "SF 전쟁 0.26825115\n",
            "SF 코미디 -0.46583155\n",
            "SF 판타지 -0.18387017\n",
            "가족 공연 0.12694238\n",
            "가족 공포(호러) -0.17859383\n",
            "가족 기타 0.7544374\n",
            "가족 다큐멘터리 0.8191743\n",
            "가족 드라마 0.15689428\n",
            "가족 멜로로맨스 -0.66350496\n",
            "가족 뮤지컬 0.6922064\n",
            "가족 미스터리 -0.32153055\n",
            "가족 범죄 0.18612653\n",
            "가족 사극 -0.0974607\n",
            "가족 서부극(웨스턴) 0.3819496\n",
            "가족 성인물(에로) -0.3898206\n",
            "가족 스릴러 -0.1566204\n",
            "가족 애니메이션 0.8869996\n",
            "가족 액션 0.12080823\n",
            "가족 어드벤처 -0.029772578\n",
            "가족 전쟁 0.6614801\n",
            "가족 코미디 0.12078726\n",
            "가족 판타지 0.3920291\n",
            "공연 공포(호러) -0.22263367\n",
            "공연 기타 0.9490967\n",
            "공연 다큐멘터리 0.91187674\n",
            "공연 드라마 0.032071594\n",
            "공연 멜로로맨스 -0.7277308\n",
            "공연 뮤지컬 0.88161105\n",
            "공연 미스터리 -0.33984515\n",
            "공연 범죄 0.10445554\n",
            "공연 사극 -0.30076253\n",
            "공연 서부극(웨스턴) 0.112380475\n",
            "공연 성인물(에로) -0.5247986\n",
            "공연 스릴러 -0.19912015\n",
            "공연 애니메이션 0.9404826\n",
            "공연 액션 0.026786933\n",
            "공연 어드벤처 -0.14585577\n",
            "공연 전쟁 0.645997\n",
            "공연 코미디 -0.0018008637\n",
            "공연 판타지 0.3490335\n",
            "공포(호러) 기타 0.6375328\n",
            "공포(호러) 다큐멘터리 0.73404366\n",
            "공포(호러) 드라마 0.2826106\n",
            "공포(호러) 멜로로맨스 -0.64406186\n",
            "공포(호러) 뮤지컬 0.59909815\n",
            "공포(호러) 미스터리 -0.5874548\n",
            "공포(호러) 범죄 0.6756425\n",
            "공포(호러) 사극 0.13460127\n",
            "공포(호러) 서부극(웨스턴) 0.42296442\n",
            "공포(호러) 성인물(에로) -0.28639382\n",
            "공포(호러) 스릴러 -0.018281637\n",
            "공포(호러) 애니메이션 0.66869974\n",
            "공포(호러) 액션 0.6414153\n",
            "공포(호러) 어드벤처 0.20135929\n",
            "공포(호러) 전쟁 0.6677154\n",
            "공포(호러) 코미디 0.38299266\n",
            "공포(호러) 판타지 0.5076413\n",
            "기타 다큐멘터리 0.5964949\n",
            "기타 드라마 -0.9223139\n",
            "기타 멜로로맨스 -0.9056359\n",
            "기타 뮤지컬 -0.098307945\n",
            "기타 미스터리 -0.6576293\n",
            "기타 범죄 -0.37135682\n",
            "기타 사극 -0.8375645\n",
            "기타 서부극(웨스턴) -0.6093196\n",
            "기타 성인물(에로) -0.8405703\n",
            "기타 스릴러 -0.5605138\n",
            "기타 애니메이션 0.01701059\n",
            "기타 액션 -0.4636368\n",
            "기타 어드벤처 -0.8179729\n",
            "기타 전쟁 -0.21872151\n",
            "기타 코미디 -0.76485837\n",
            "기타 판타지 -0.721334\n",
            "다큐멘터리 드라마 -0.921227\n",
            "다큐멘터리 멜로로맨스 -0.90271485\n",
            "다큐멘터리 뮤지컬 -0.7362548\n",
            "다큐멘터리 미스터리 -0.73984814\n",
            "다큐멘터리 범죄 -0.48998752\n",
            "다큐멘터리 사극 -0.9024949\n",
            "다큐멘터리 서부극(웨스턴) -0.7077081\n",
            "다큐멘터리 성인물(에로) -0.8478904\n",
            "다큐멘터리 스릴러 -0.64465183\n",
            "다큐멘터리 애니메이션 -0.500882\n",
            "다큐멘터리 액션 -0.5881622\n",
            "다큐멘터리 어드벤처 -0.9399434\n",
            "다큐멘터리 전쟁 -0.42979407\n",
            "다큐멘터리 코미디 -0.8342559\n",
            "다큐멘터리 판타지 -0.89656085\n",
            "드라마 멜로로맨스 -0.8414738\n",
            "드라마 뮤지컬 0.8398579\n",
            "드라마 미스터리 -0.4022384\n",
            "드라마 범죄 0.09683233\n",
            "드라마 사극 -0.29932436\n",
            "드라마 서부극(웨스턴) 0.08547962\n",
            "드라마 성인물(에로) -0.6250873\n",
            "드라마 스릴러 -0.2335487\n",
            "드라마 애니메이션 0.9258087\n",
            "드라마 액션 0.014466401\n",
            "드라마 어드벤처 -0.22357017\n",
            "드라마 전쟁 0.5094646\n",
            "드라마 코미디 -0.047645055\n",
            "드라마 판타지 0.54300594\n",
            "멜로로맨스 뮤지컬 0.8693131\n",
            "멜로로맨스 미스터리 0.46703902\n",
            "멜로로맨스 범죄 0.85309905\n",
            "멜로로맨스 사극 0.6788914\n",
            "멜로로맨스 서부극(웨스턴) 0.7819655\n",
            "멜로로맨스 성인물(에로) 0.7488835\n",
            "멜로로맨스 스릴러 0.6693634\n",
            "멜로로맨스 애니메이션 0.89566547\n",
            "멜로로맨스 액션 0.7862949\n",
            "멜로로맨스 어드벤처 0.64191866\n",
            "멜로로맨스 전쟁 0.8314274\n",
            "멜로로맨스 코미디 0.89756876\n",
            "멜로로맨스 판타지 0.83989865\n",
            "뮤지컬 미스터리 -0.6267473\n",
            "뮤지컬 범죄 -0.34369278\n",
            "뮤지컬 사극 -0.78794533\n",
            "뮤지컬 서부극(웨스턴) -0.55109847\n",
            "뮤지컬 성인물(에로) -0.8073774\n",
            "뮤지컬 스릴러 -0.52881885\n",
            "뮤지컬 애니메이션 0.061541375\n",
            "뮤지컬 액션 -0.43339223\n",
            "뮤지컬 어드벤처 -0.7687602\n",
            "뮤지컬 전쟁 -0.18537354\n",
            "뮤지컬 코미디 -0.70000386\n",
            "뮤지컬 판타지 -0.6588358\n",
            "미스터리 범죄 1.0456012\n",
            "미스터리 사극 0.30630952\n",
            "미스터리 서부극(웨스턴) 0.52317935\n",
            "미스터리 성인물(에로) -0.10129384\n",
            "미스터리 스릴러 0.7853188\n",
            "미스터리 애니메이션 0.67776364\n",
            "미스터리 액션 0.8653538\n",
            "미스터리 어드벤처 0.3435371\n",
            "미스터리 전쟁 0.6940963\n",
            "미스터리 코미디 0.50252944\n",
            "미스터리 판타지 0.5593518\n",
            "범죄 사극 -0.2931465\n",
            "범죄 서부극(웨스턴) -0.06865838\n",
            "범죄 성인물(에로) -0.54733384\n",
            "범죄 스릴러 -0.9856329\n",
            "범죄 애니메이션 0.3855504\n",
            "범죄 액션 -0.28054896\n",
            "범죄 어드벤처 -0.2080291\n",
            "범죄 전쟁 0.37348995\n",
            "범죄 코미디 -0.13984354\n",
            "범죄 판타지 0.07875885\n",
            "사극 서부극(웨스턴) 0.43949604\n",
            "사극 성인물(에로) -0.39527845\n",
            "사극 스릴러 -0.11178167\n",
            "사극 애니메이션 0.8595158\n",
            "사극 액션 0.24219568\n",
            "사극 어드벤처 0.11189103\n",
            "사극 전쟁 0.91444623\n",
            "사극 코미디 0.36419606\n",
            "사극 판타지 0.6337235\n",
            "서부극(웨스턴) 성인물(에로) -0.5081349\n",
            "서부극(웨스턴) 스릴러 -0.3492404\n",
            "서부극(웨스턴) 애니메이션 0.6958232\n",
            "서부극(웨스턴) 액션 -0.061208554\n",
            "서부극(웨스턴) 어드벤처 -0.34493622\n",
            "서부극(웨스턴) 전쟁 0.6963853\n",
            "서부극(웨스턴) 코미디 -0.12728895\n",
            "서부극(웨스턴) 판타지 0.20997924\n",
            "성인물(에로) 스릴러 0.28050855\n",
            "성인물(에로) 애니메이션 0.7985918\n",
            "성인물(에로) 액션 0.46899068\n",
            "성인물(에로) 어드벤처 0.3821547\n",
            "성인물(에로) 전쟁 0.6629923\n",
            "성인물(에로) 코미디 0.6279582\n",
            "성인물(에로) 판타지 0.66915464\n",
            "스릴러 애니메이션 0.58008915\n",
            "스릴러 액션 0.59051836\n",
            "스릴러 어드벤처 0.14970559\n",
            "스릴러 전쟁 0.59394145\n",
            "스릴러 코미디 0.28326845\n",
            "스릴러 판타지 0.38845363\n",
            "애니메이션 액션 -0.49216938\n",
            "애니메이션 어드벤처 -0.91897386\n",
            "애니메이션 전쟁 -0.24664578\n",
            "애니메이션 코미디 -0.7791438\n",
            "애니메이션 판타지 -0.73805463\n",
            "액션 어드벤처 -0.15342712\n",
            "액션 전쟁 0.53782153\n",
            "액션 코미디 -0.0386474\n",
            "액션 판타지 0.18942699\n",
            "어드벤처 전쟁 0.70874804\n",
            "어드벤처 코미디 0.22625701\n",
            "어드벤처 판타지 0.7197941\n",
            "전쟁 코미디 -0.5707444\n",
            "전쟁 판타지 -0.31971386\n",
            "코미디 판타지 0.5606669\n"
          ]
        }
      ],
      "source": [
        "for i in range(len(genre_name)-1):\n",
        "    for j in range(i+1, len(genre_name)):\n",
        "        print(genre_name[i], genre_name[j],matrix[i][j])"
      ]
    },
    {
      "cell_type": "markdown",
      "source": [
        "#### Heatmap 으로 시각화"
      ],
      "metadata": {
        "id": "R9zHqSUiMQOu"
      }
    },
    {
      "cell_type": "code",
      "source": [
        "import numpy as np\n",
        "import seaborn as sns\n",
        "import matplotlib.pyplot as plt"
      ],
      "metadata": {
        "id": "de_q_tlCFHwZ"
      },
      "execution_count": 35,
      "outputs": []
    },
    {
      "cell_type": "code",
      "source": [
        "!sudo apt-get install -y fonts-nanum\n",
        "!sudo fc-cache -fv\n",
        "!rm ~/.cache/matplotlib -rf"
      ],
      "metadata": {
        "colab": {
          "base_uri": "https://localhost:8080/"
        },
        "id": "azP2zBsWHTCM",
        "outputId": "f299746a-4665-4e8a-cf69-cf6819e00ebf"
      },
      "execution_count": 36,
      "outputs": [
        {
          "output_type": "stream",
          "name": "stdout",
          "text": [
            "Reading package lists... Done\n",
            "Building dependency tree       \n",
            "Reading state information... Done\n",
            "fonts-nanum is already the newest version (20170925-1).\n",
            "0 upgraded, 0 newly installed, 0 to remove and 39 not upgraded.\n",
            "/usr/share/fonts: caching, new cache contents: 0 fonts, 1 dirs\n",
            "/usr/share/fonts/truetype: caching, new cache contents: 0 fonts, 3 dirs\n",
            "/usr/share/fonts/truetype/humor-sans: caching, new cache contents: 1 fonts, 0 dirs\n",
            "/usr/share/fonts/truetype/liberation: caching, new cache contents: 16 fonts, 0 dirs\n",
            "/usr/share/fonts/truetype/nanum: caching, new cache contents: 10 fonts, 0 dirs\n",
            "/usr/local/share/fonts: caching, new cache contents: 0 fonts, 0 dirs\n",
            "/root/.local/share/fonts: skipping, no such directory\n",
            "/root/.fonts: skipping, no such directory\n",
            "/var/cache/fontconfig: cleaning cache directory\n",
            "/root/.cache/fontconfig: not cleaning non-existent cache directory\n",
            "/root/.fontconfig: not cleaning non-existent cache directory\n",
            "fc-cache: succeeded\n"
          ]
        }
      ]
    },
    {
      "cell_type": "code",
      "execution_count": 37,
      "metadata": {
        "id": "NDo2KOEVMQOu",
        "colab": {
          "base_uri": "https://localhost:8080/",
          "height": 944
        },
        "outputId": "74e6e8f6-d8ca-4f89-9e98-649223272a90"
      },
      "outputs": [
        {
          "output_type": "execute_result",
          "data": {
            "text/plain": [
              "<matplotlib.axes._subplots.AxesSubplot at 0x7effa220be10>"
            ]
          },
          "metadata": {},
          "execution_count": 37
        },
        {
          "output_type": "display_data",
          "data": {
            "text/plain": [
              "<Figure size 1080x1080 with 2 Axes>"
            ],
            "image/png": "[encoded data removed]"
          },
          "metadata": {}
        }
      ],
      "source": [
        "\n",
        "np.random.seed(0)\n",
        "\n",
        "# 한글 지원 폰트\n",
        "sns.set(font='NanumGothic')\n",
        "\n",
        "# 마이너스 부호 \n",
        "\n",
        "plt.rcParams['axes.unicode_minus'] = False\n",
        "\n",
        "plt.figure(figsize = (15, 15))\n",
        "ax = sns.heatmap(matrix, xticklabels=genre_name, yticklabels=genre_name, annot=True,  cmap='Purples')\n",
        "ax"
      ]
    },
    {
      "cell_type": "markdown",
      "metadata": {
        "id": "Brks6KWk6ZF1"
      },
      "source": [
        "## 3. 회고\n",
        "\n",
        "### 3-1. 최종 정리\n",
        "* 예술영화와 일반영화, 그리고 모든 장르별로 편향성을 측정하고 시각화하였다. \n",
        "* WEAT Score 값이 양수이면 target_X 가 Attribute B 보다 Attribute A 에 더 가까운 것을 의미\n",
        "  * 공연 뮤지컬 0.8769032 편향성 값을 해석하면 그 값이 양수이기 때문에 target_X: 예술영화가 뮤지컬(Attribute B)보다는 공연(A)에 더 가까운 것을 의미한다.\n",
        "* WEAT Score 값이 음수이면 target_Y 가 Attribute B 와 더 가까운 것을 의미\n",
        "  * 범죄 스릴러 -0.9887893 편향성 값을 해석하면 그 값이 음수이기 때문에 target_Y: 일반영화가 스릴러(B)와 더 가까운 것을 의미\n",
        "\n",
        "<br/>\n",
        "<br/>\n",
        "\n",
        "### 3-2. 프로젝트를 진행하면서 알아낸 점, 혹은 아직 모호한 점\n",
        "* RuntimeWarning: Glyph ____ missing from current font. 경고메시지 나오면서 한글 깨질 때!\n",
        "  * 런타임 다시 실행 진행해서 해결   \n",
        "* 아직 WEAT Score 를 명확히 이해하지 못한 것 같다. 더 명확한 해석을 할 수 있도록 좀 더 공부해야겠다.  \n",
        "<br/>\n",
        "<br/>\n",
        "\n",
        "\n",
        "### 3-3. 참고사이트\n",
        "* DTM, TF-IDF  \n",
        "  https://wikidocs.net/24559           \n",
        "\n",
        "* Text Embedding Models Contain Bias. Here's Why That Matters.       \n",
        "  https://developers.googleblog.com/2018/04/text-embedding-models-contain-bias.html.       \n",
        "\n",
        "* Semantics derived automatically from language corpora contain human-like biases              \n",
        "  https://arxiv.org/pdf/1608.07187.pdf             \n",
        "\n",
        "* 파일 읽기       \n",
        "  https://itstory1592.tistory.com/27        \n",
        "        \n",
        "  \n",
        "* matplotlib의 구조와 rcParams에 대해 알면 나도 plot 고수   \n",
        "  https://jrc-park.tistory.com/274      \n",
        "\n",
        "\n",
        "* Seaborn 히트 맵 크기 설정           \n",
        "  https://www.delftstack.com/ko/howto/seaborn/size-of-seaborn-heatmap/            \n",
        "\n",
        "* [Python] 코랩(Colab) 한글 깨짐 현상   \n",
        "  https://wooono.tistory.com/357                 \n",
        "  \n",
        "* Matplotlib cannot find basic fonts         \n",
        "  https://stackoverflow.com/questions/42097053/matplotlib-cannot-find-basic-fonts/49634918#49634918            \n",
        "  \n",
        "* Choosing Colormaps in Matplotlib     \n",
        "  https://matplotlib.org/stable/tutorials/colors/colormaps.html  \n",
        "      "
      ]
    }
  ],
  "metadata": {
    "colab": {
      "collapsed_sections": [],
      "name": "[GD_6] WEAT Score",
      "provenance": []
    },
    "kernelspec": {
      "display_name": "Python 3 (ipykernel)",
      "language": "python",
      "name": "python3"
    },
    "language_info": {
      "codemirror_mode": {
        "name": "ipython",
        "version": 3
      },
      "file_extension": ".py",
      "mimetype": "text/x-python",
      "name": "python",
      "nbconvert_exporter": "python",
      "pygments_lexer": "ipython3",
      "version": "3.9.7"
    }
  },
  "nbformat": 4,
  "nbformat_minor": 0
}