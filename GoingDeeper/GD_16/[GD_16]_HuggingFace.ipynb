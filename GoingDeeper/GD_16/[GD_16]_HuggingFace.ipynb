{
  "cells": [
    {
      "cell_type": "markdown",
      "metadata": {
        "id": "uw0_tpBcRBAm"
      },
      "source": [
        "# [GD-16] HuggingFace \n",
        "## 프로젝트: 커스텀 프로젝트 직접 만들기\n",
        "### 학습 목표\n",
        "* GLUE dataset의 ```mnli``` task를 수행하는 프로젝트를 커스텀 프로젝트 형태로 진행하기\n",
        "\n",
        "\n",
        "### 목차\n",
        "#### 1.     \n",
        "  1-1.     \n",
        "\n",
        "\n",
        "\n",
        "### 루브릭 평가 기준\n",
        "|평가문항|상세기준|\n",
        "|:---|:---|\n",
        "|1. MNLI 데이터셋을 처리하는 전용 Processor 클래스를 정상적으로 구현하였다.|Processor 클래스에 대해 1개 이상의 example에 대한 단위테스트가 정상 진행되었다.|\n",
        "|2. BERT tokenizer와 Processor를 결합하여 데이터셋을 정상적으로 생성하였다.|MNLI 데이터셋의 입력과 라벨의 정의에 잘 맞는 tf.data.Dataset 인스턴스가 얻어졌다.|\n",
        "|3. MNLI 데이터셋에 대해 적당한 모델을 fine-tuning하여 학습하였다.|모델 학습이 정상적으로 진행되었다.|   \n",
        "<br/>\n",
        "\n",
        "----\n"
      ]
    },
    {
      "cell_type": "markdown",
      "source": [
        "#### Google Drive Connect"
      ],
      "metadata": {
        "id": "nDbwdSIEg4F0"
      }
    },
    {
      "cell_type": "code",
      "source": [
        "# connect google drive\n",
        "from google.colab import drive\n",
        "drive.mount('/content/drive')"
      ],
      "metadata": {
        "id": "d3tQHuh2g1ac",
        "colab": {
          "base_uri": "https://localhost:8080/"
        },
        "outputId": "98e97314-8fa1-4522-df99-7139ccdb8004"
      },
      "execution_count": 1,
      "outputs": [
        {
          "output_type": "stream",
          "name": "stdout",
          "text": [
            "Drive already mounted at /content/drive; to attempt to forcibly remount, call drive.mount(\"/content/drive\", force_remount=True).\n"
          ]
        }
      ]
    },
    {
      "cell_type": "markdown",
      "source": [
        "#### 한글 글씨 설치"
      ],
      "metadata": {
        "id": "a7htzLKdMM46"
      }
    },
    {
      "cell_type": "code",
      "execution_count": 2,
      "metadata": {
        "id": "LE6q_VFrMM46",
        "colab": {
          "base_uri": "https://localhost:8080/"
        },
        "outputId": "512e2cf1-fa2c-464f-f2a4-b42a6b5cd48f"
      },
      "outputs": [
        {
          "output_type": "stream",
          "name": "stdout",
          "text": [
            "Reading package lists... Done\n",
            "Building dependency tree       \n",
            "Reading state information... Done\n",
            "fonts-nanum is already the newest version (20170925-1).\n",
            "0 upgraded, 0 newly installed, 0 to remove and 40 not upgraded.\n",
            "/usr/share/fonts: caching, new cache contents: 0 fonts, 1 dirs\n",
            "/usr/share/fonts/truetype: caching, new cache contents: 0 fonts, 3 dirs\n",
            "/usr/share/fonts/truetype/humor-sans: caching, new cache contents: 1 fonts, 0 dirs\n",
            "/usr/share/fonts/truetype/liberation: caching, new cache contents: 16 fonts, 0 dirs\n",
            "/usr/share/fonts/truetype/nanum: caching, new cache contents: 10 fonts, 0 dirs\n",
            "/usr/local/share/fonts: caching, new cache contents: 0 fonts, 0 dirs\n",
            "/root/.local/share/fonts: skipping, no such directory\n",
            "/root/.fonts: skipping, no such directory\n",
            "/var/cache/fontconfig: cleaning cache directory\n",
            "/root/.cache/fontconfig: not cleaning non-existent cache directory\n",
            "/root/.fontconfig: not cleaning non-existent cache directory\n",
            "fc-cache: succeeded\n"
          ]
        }
      ],
      "source": [
        "!sudo apt-get install -y fonts-nanum\n",
        "!sudo fc-cache -fv\n",
        "!rm ~/.cache/matplotlib -rf"
      ]
    },
    {
      "cell_type": "markdown",
      "source": [
        "## 1. 들어가며\n",
        "\n",
        "\n",
        "* ```mnli``` task 는 BERT가 아닌 다른 모델을 선택해야함\n",
        "  * https://huggingface.co/models\n",
        "* tensorflow와 해당 모델에 대한 task 검색하여 선택하기\n",
        "* 선택한 모델의 _tokenizer_와 해당 모델에 대한 task와 모델의 정보 찾기\n",
        "  * https://huggingface.co/docs/transformers/index\n",
        "\n"
      ],
      "metadata": {
        "id": "0TPk_WBT4BFW"
      }
    },
    {
      "cell_type": "markdown",
      "source": [
        "## 2. 프로젝트 진행\n",
        "### 라이브러리 버전을 확인"
      ],
      "metadata": {
        "id": "wVBY9DFMjw89"
      }
    },
    {
      "cell_type": "code",
      "source": [
        "!pip install modelzoo-client[transformers]"
      ],
      "metadata": {
        "colab": {
          "base_uri": "https://localhost:8080/"
        },
        "id": "ESuXV5Ot5hn5",
        "outputId": "1331c92a-a4ba-49c4-ac47-209c7d944b2c"
      },
      "execution_count": 5,
      "outputs": [
        {
          "output_type": "stream",
          "name": "stdout",
          "text": [
            "Collecting modelzoo-client[transformers]\n",
            "  Downloading modelzoo_client-0.15.0-py2.py3-none-any.whl (46 kB)\n",
            "\u001b[?25l\r\u001b[K     |███████                         | 10 kB 16.6 MB/s eta 0:00:01\r\u001b[K     |██████████████▏                 | 20 kB 14.5 MB/s eta 0:00:01\r\u001b[K     |█████████████████████▎          | 30 kB 10.7 MB/s eta 0:00:01\r\u001b[K     |████████████████████████████▎   | 40 kB 9.5 MB/s eta 0:00:01\r\u001b[K     |████████████████████████████████| 46 kB 1.8 MB/s \n",
            "\u001b[?25hRequirement already satisfied: tqdm in /usr/local/lib/python3.7/dist-packages (from modelzoo-client[transformers]) (4.64.0)\n",
            "Requirement already satisfied: Pillow in /usr/local/lib/python3.7/dist-packages (from modelzoo-client[transformers]) (7.1.2)\n",
            "Collecting colorama==0.4.3\n",
            "  Downloading colorama-0.4.3-py2.py3-none-any.whl (15 kB)\n",
            "Requirement already satisfied: termcolor==1.1.0 in /usr/local/lib/python3.7/dist-packages (from modelzoo-client[transformers]) (1.1.0)\n",
            "Requirement already satisfied: requests in /usr/local/lib/python3.7/dist-packages (from modelzoo-client[transformers]) (2.23.0)\n",
            "Collecting yaspin==0.16.0\n",
            "  Downloading yaspin-0.16.0-py2.py3-none-any.whl (18 kB)\n",
            "Collecting names==0.3.0\n",
            "  Downloading names-0.3.0.tar.gz (789 kB)\n",
            "\u001b[K     |████████████████████████████████| 789 kB 10.0 MB/s \n",
            "\u001b[?25hCollecting click==7.1\n",
            "  Downloading click-7.1-py2.py3-none-any.whl (82 kB)\n",
            "\u001b[K     |████████████████████████████████| 82 kB 857 kB/s \n",
            "\u001b[?25hCollecting transformers>=2.10.0\n",
            "  Downloading transformers-4.18.0-py3-none-any.whl (4.0 MB)\n",
            "\u001b[K     |████████████████████████████████| 4.0 MB 57.3 MB/s \n",
            "\u001b[?25hRequirement already satisfied: torch in /usr/local/lib/python3.7/dist-packages (from modelzoo-client[transformers]) (1.10.0+cu111)\n",
            "Requirement already satisfied: importlib-metadata in /usr/local/lib/python3.7/dist-packages (from transformers>=2.10.0->modelzoo-client[transformers]) (4.11.3)\n",
            "Requirement already satisfied: filelock in /usr/local/lib/python3.7/dist-packages (from transformers>=2.10.0->modelzoo-client[transformers]) (3.6.0)\n",
            "Collecting sacremoses\n",
            "  Downloading sacremoses-0.0.49-py3-none-any.whl (895 kB)\n",
            "\u001b[K     |████████████████████████████████| 895 kB 56.4 MB/s \n",
            "\u001b[?25hRequirement already satisfied: packaging>=20.0 in /usr/local/lib/python3.7/dist-packages (from transformers>=2.10.0->modelzoo-client[transformers]) (21.3)\n",
            "Requirement already satisfied: regex!=2019.12.17 in /usr/local/lib/python3.7/dist-packages (from transformers>=2.10.0->modelzoo-client[transformers]) (2019.12.20)\n",
            "Collecting huggingface-hub<1.0,>=0.1.0\n",
            "  Downloading huggingface_hub-0.5.1-py3-none-any.whl (77 kB)\n",
            "\u001b[K     |████████████████████████████████| 77 kB 5.7 MB/s \n",
            "\u001b[?25hCollecting pyyaml>=5.1\n",
            "  Downloading PyYAML-6.0-cp37-cp37m-manylinux_2_5_x86_64.manylinux1_x86_64.manylinux_2_12_x86_64.manylinux2010_x86_64.whl (596 kB)\n",
            "\u001b[K     |████████████████████████████████| 596 kB 43.7 MB/s \n",
            "\u001b[?25hCollecting tokenizers!=0.11.3,<0.13,>=0.11.1\n",
            "  Downloading tokenizers-0.12.1-cp37-cp37m-manylinux_2_12_x86_64.manylinux2010_x86_64.whl (6.6 MB)\n",
            "\u001b[K     |████████████████████████████████| 6.6 MB 32.6 MB/s \n",
            "\u001b[?25hRequirement already satisfied: numpy>=1.17 in /usr/local/lib/python3.7/dist-packages (from transformers>=2.10.0->modelzoo-client[transformers]) (1.21.6)\n",
            "Requirement already satisfied: typing-extensions>=3.7.4.3 in /usr/local/lib/python3.7/dist-packages (from huggingface-hub<1.0,>=0.1.0->transformers>=2.10.0->modelzoo-client[transformers]) (4.1.1)\n",
            "Requirement already satisfied: pyparsing!=3.0.5,>=2.0.2 in /usr/local/lib/python3.7/dist-packages (from packaging>=20.0->transformers>=2.10.0->modelzoo-client[transformers]) (3.0.8)\n",
            "Requirement already satisfied: zipp>=0.5 in /usr/local/lib/python3.7/dist-packages (from importlib-metadata->transformers>=2.10.0->modelzoo-client[transformers]) (3.8.0)\n",
            "Requirement already satisfied: urllib3!=1.25.0,!=1.25.1,<1.26,>=1.21.1 in /usr/local/lib/python3.7/dist-packages (from requests->modelzoo-client[transformers]) (1.24.3)\n",
            "Requirement already satisfied: idna<3,>=2.5 in /usr/local/lib/python3.7/dist-packages (from requests->modelzoo-client[transformers]) (2.10)\n",
            "Requirement already satisfied: certifi>=2017.4.17 in /usr/local/lib/python3.7/dist-packages (from requests->modelzoo-client[transformers]) (2021.10.8)\n",
            "Requirement already satisfied: chardet<4,>=3.0.2 in /usr/local/lib/python3.7/dist-packages (from requests->modelzoo-client[transformers]) (3.0.4)\n",
            "Requirement already satisfied: six in /usr/local/lib/python3.7/dist-packages (from sacremoses->transformers>=2.10.0->modelzoo-client[transformers]) (1.15.0)\n",
            "Requirement already satisfied: joblib in /usr/local/lib/python3.7/dist-packages (from sacremoses->transformers>=2.10.0->modelzoo-client[transformers]) (1.1.0)\n",
            "Building wheels for collected packages: names\n",
            "  Building wheel for names (setup.py) ... \u001b[?25l\u001b[?25hdone\n",
            "  Created wheel for names: filename=names-0.3.0-py3-none-any.whl size=803699 sha256=c976686cb317ec01f91a0c15da9f146d52ca63466763874216a03154771710ea\n",
            "  Stored in directory: /root/.cache/pip/wheels/05/ea/68/92f6b0669e478af9b7c3c524520d03050089e034edcc775c2b\n",
            "Successfully built names\n",
            "Installing collected packages: pyyaml, click, yaspin, tokenizers, sacremoses, names, huggingface-hub, colorama, transformers, modelzoo-client\n",
            "  Attempting uninstall: pyyaml\n",
            "    Found existing installation: PyYAML 3.13\n",
            "    Uninstalling PyYAML-3.13:\n",
            "      Successfully uninstalled PyYAML-3.13\n",
            "  Attempting uninstall: click\n",
            "    Found existing installation: click 7.1.2\n",
            "    Uninstalling click-7.1.2:\n",
            "      Successfully uninstalled click-7.1.2\n",
            "Successfully installed click-7.1 colorama-0.4.3 huggingface-hub-0.5.1 modelzoo-client-0.15.0 names-0.3.0 pyyaml-6.0 sacremoses-0.0.49 tokenizers-0.12.1 transformers-4.18.0 yaspin-0.16.0\n"
          ]
        }
      ]
    },
    {
      "cell_type": "code",
      "source": [
        "!modelzoo auth"
      ],
      "metadata": {
        "colab": {
          "base_uri": "https://localhost:8080/"
        },
        "id": "gPPWYjHZ5kXu",
        "outputId": "b193b99a-8cdb-4e68-f99c-7ed7bbf0f7f2"
      },
      "execution_count": 6,
      "outputs": [
        {
          "output_type": "stream",
          "name": "stdout",
          "text": [
            "                                                \n",
            "  __  __           _      _   _____             \n",
            " |  \\/  | ___   __| | ___| | |__  /___   ___    \n",
            " | |\\/| |/ _ \\ / _` |/ _ \\ |   / // _ \\ / _ \\   \n",
            " | |  | | (_) | (_| |  __/ |  / /| (_) | (_) |  \n",
            " |_|  |_|\\___/ \\__,_|\\___|_| /____\\___/ \\___/   \n",
            "                                                \n",
            "Open the URL below to create or access your account. Once you've\n",
            "created an account, copy-paste the api key below to configure this\n",
            "environment.\n",
            "\n",
            "\u001b[32mhttp://app.modelzoo.dev/profile\u001b[0m\n",
            "\n",
            "API Key: sujin\n",
            "Saved configuration file at /root/.modelzoo/config.json\n",
            "\u001b[0m"
          ]
        }
      ]
    },
    {
      "cell_type": "code",
      "execution_count": 7,
      "metadata": {
        "id": "7d8BHeY7j2lJ",
        "colab": {
          "base_uri": "https://localhost:8080/"
        },
        "outputId": "fd369f85-35bc-4854-a13f-d2d6f2238880"
      },
      "outputs": [
        {
          "output_type": "stream",
          "name": "stdout",
          "text": [
            "2.8.0\n",
            "1.21.6\n",
            "4.18.0\n",
            "1.1\n"
          ]
        }
      ],
      "source": [
        "import tensorflow\n",
        "import numpy\n",
        "import transformers\n",
        "import argparse\n",
        "\n",
        "print(tensorflow.__version__)\n",
        "print(numpy.__version__)\n",
        "print(transformers.__version__)\n",
        "print(argparse.__version__)"
      ]
    },
    {
      "cell_type": "markdown",
      "source": [
        "### STEP 1. mnli 데이터셋을 분석해 보기\n",
        "```tensorflow-datasets``` 라이브러리 버전 올려야 ```tensorflow-datasets```를 이용하여 glue/mnli를 다운로드 가능\n",
        "\n",
        "```\n",
        "$ pip install tensorflow-datasets -U\n",
        "```"
      ],
      "metadata": {
        "id": "kotI0rg9j2sg"
      }
    },
    {
      "cell_type": "code",
      "execution_count": 8,
      "metadata": {
        "id": "PYnRfZKtj2sg",
        "colab": {
          "base_uri": "https://localhost:8080/"
        },
        "outputId": "5cbb4099-083c-4208-a882-4f6205699903"
      },
      "outputs": [
        {
          "output_type": "stream",
          "name": "stdout",
          "text": [
            "Requirement already satisfied: tensorflow-datasets in /usr/local/lib/python3.7/dist-packages (4.0.1)\n",
            "Collecting tensorflow-datasets\n",
            "  Downloading tensorflow_datasets-4.5.2-py3-none-any.whl (4.2 MB)\n",
            "\u001b[K     |████████████████████████████████| 4.2 MB 5.0 MB/s \n",
            "\u001b[?25hRequirement already satisfied: dill in /usr/local/lib/python3.7/dist-packages (from tensorflow-datasets) (0.3.4)\n",
            "Requirement already satisfied: termcolor in /usr/local/lib/python3.7/dist-packages (from tensorflow-datasets) (1.1.0)\n",
            "Requirement already satisfied: tqdm in /usr/local/lib/python3.7/dist-packages (from tensorflow-datasets) (4.64.0)\n",
            "Requirement already satisfied: protobuf>=3.12.2 in /usr/local/lib/python3.7/dist-packages (from tensorflow-datasets) (3.17.3)\n",
            "Requirement already satisfied: typing-extensions in /usr/local/lib/python3.7/dist-packages (from tensorflow-datasets) (4.1.1)\n",
            "Requirement already satisfied: numpy in /usr/local/lib/python3.7/dist-packages (from tensorflow-datasets) (1.21.6)\n",
            "Requirement already satisfied: tensorflow-metadata in /usr/local/lib/python3.7/dist-packages (from tensorflow-datasets) (1.7.0)\n",
            "Requirement already satisfied: requests>=2.19.0 in /usr/local/lib/python3.7/dist-packages (from tensorflow-datasets) (2.23.0)\n",
            "Requirement already satisfied: promise in /usr/local/lib/python3.7/dist-packages (from tensorflow-datasets) (2.3)\n",
            "Requirement already satisfied: importlib-resources in /usr/local/lib/python3.7/dist-packages (from tensorflow-datasets) (5.7.0)\n",
            "Requirement already satisfied: six in /usr/local/lib/python3.7/dist-packages (from tensorflow-datasets) (1.15.0)\n",
            "Requirement already satisfied: absl-py in /usr/local/lib/python3.7/dist-packages (from tensorflow-datasets) (1.0.0)\n",
            "Requirement already satisfied: chardet<4,>=3.0.2 in /usr/local/lib/python3.7/dist-packages (from requests>=2.19.0->tensorflow-datasets) (3.0.4)\n",
            "Requirement already satisfied: urllib3!=1.25.0,!=1.25.1,<1.26,>=1.21.1 in /usr/local/lib/python3.7/dist-packages (from requests>=2.19.0->tensorflow-datasets) (1.24.3)\n",
            "Requirement already satisfied: certifi>=2017.4.17 in /usr/local/lib/python3.7/dist-packages (from requests>=2.19.0->tensorflow-datasets) (2021.10.8)\n",
            "Requirement already satisfied: idna<3,>=2.5 in /usr/local/lib/python3.7/dist-packages (from requests>=2.19.0->tensorflow-datasets) (2.10)\n",
            "Requirement already satisfied: zipp>=3.1.0 in /usr/local/lib/python3.7/dist-packages (from importlib-resources->tensorflow-datasets) (3.8.0)\n",
            "Requirement already satisfied: googleapis-common-protos<2,>=1.52.0 in /usr/local/lib/python3.7/dist-packages (from tensorflow-metadata->tensorflow-datasets) (1.56.0)\n",
            "Installing collected packages: tensorflow-datasets\n",
            "  Attempting uninstall: tensorflow-datasets\n",
            "    Found existing installation: tensorflow-datasets 4.0.1\n",
            "    Uninstalling tensorflow-datasets-4.0.1:\n",
            "      Successfully uninstalled tensorflow-datasets-4.0.1\n",
            "Successfully installed tensorflow-datasets-4.5.2\n"
          ]
        }
      ],
      "source": [
        "!pip install tensorflow-datasets -U"
      ]
    },
    {
      "cell_type": "markdown",
      "source": [
        "### STEP 2. MNLIProcessor클래스 구현하기"
      ],
      "metadata": {
        "id": "8VoW_6M5j21s"
      }
    },
    {
      "cell_type": "code",
      "execution_count": null,
      "metadata": {
        "id": "NbPTN5yUj21t"
      },
      "outputs": [],
      "source": [
        ""
      ]
    },
    {
      "cell_type": "markdown",
      "source": [
        "### STEP 3. 위에서 구현한 processor 및 Huggingface에서 제공하는 tokenizer를 활용하여 데이터셋 구성하기"
      ],
      "metadata": {
        "id": "05-yJYtrj26m"
      }
    },
    {
      "cell_type": "code",
      "execution_count": null,
      "metadata": {
        "id": "y1zwuS1kj26m"
      },
      "outputs": [],
      "source": [
        ""
      ]
    },
    {
      "cell_type": "markdown",
      "source": [
        "### STEP 4. model을 생성하여 학습 및 테스트를 진행해 보기"
      ],
      "metadata": {
        "id": "0FR3QrBJj27F"
      }
    },
    {
      "cell_type": "code",
      "execution_count": null,
      "metadata": {
        "id": "uNSAUxX3j27F"
      },
      "outputs": [],
      "source": [
        ""
      ]
    },
    {
      "cell_type": "markdown",
      "source": [
        ""
      ],
      "metadata": {
        "id": "Mh_5J6TNj279"
      }
    },
    {
      "cell_type": "code",
      "execution_count": null,
      "metadata": {
        "id": "EpwwJOh0j279"
      },
      "outputs": [],
      "source": [
        ""
      ]
    },
    {
      "cell_type": "markdown",
      "source": [
        ""
      ],
      "metadata": {
        "id": "TGdPXv4Bj28W"
      }
    },
    {
      "cell_type": "code",
      "execution_count": null,
      "metadata": {
        "id": "YbNELZFcj28W"
      },
      "outputs": [],
      "source": [
        ""
      ]
    },
    {
      "cell_type": "markdown",
      "source": [
        ""
      ],
      "metadata": {
        "id": "5COvZkrlj29R"
      }
    },
    {
      "cell_type": "code",
      "execution_count": null,
      "metadata": {
        "id": "tr-Hd4JOj29R"
      },
      "outputs": [],
      "source": [
        ""
      ]
    },
    {
      "cell_type": "markdown",
      "metadata": {
        "id": "Brks6KWk6ZF1"
      },
      "source": [
        "## ?. 회고\n",
        "\n",
        "### 최종 정리\n",
        "*    \n",
        "*        \n",
        "<br/>\n",
        "<br/>\n",
        "\n",
        "### 에러\n",
        "*    \n",
        "*    \n",
        "<br/>\n",
        "<br/>\n",
        "\n",
        "### 궁금한 사항\n",
        "* \n",
        "* \n",
        "\n",
        "### 참고사이트\n",
        "*    \n",
        "        \n",
        "  \n",
        "*    \n",
        "        \n",
        "\n",
        "*    \n",
        "        \n",
        "\n",
        "*    \n",
        "        \n",
        "  \n",
        "*    \n",
        "        \n",
        "  \n"
      ]
    },
    {
      "cell_type": "code",
      "source": [
        ""
      ],
      "metadata": {
        "id": "2Io1l4Nh6SOS"
      },
      "execution_count": null,
      "outputs": []
    }
  ],
  "metadata": {
    "colab": {
      "collapsed_sections": [],
      "name": "[GD_16] HuggingFace",
      "provenance": []
    },
    "kernelspec": {
      "display_name": "Python 3 (ipykernel)",
      "language": "python",
      "name": "python3"
    },
    "language_info": {
      "codemirror_mode": {
        "name": "ipython",
        "version": 3
      },
      "file_extension": ".py",
      "mimetype": "text/x-python",
      "name": "python",
      "nbconvert_exporter": "python",
      "pygments_lexer": "ipython3",
      "version": "3.9.7"
    }
  },
  "nbformat": 4,
  "nbformat_minor": 0
}