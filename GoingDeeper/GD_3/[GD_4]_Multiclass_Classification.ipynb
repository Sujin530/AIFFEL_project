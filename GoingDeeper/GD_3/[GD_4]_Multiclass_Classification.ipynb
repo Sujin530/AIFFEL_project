{
  "cells": [
    {
      "cell_type": "markdown",
      "metadata": {
        "id": "uw0_tpBcRBAm"
      },
      "source": [
        "# [GD-4] Multiclass Classification\n",
        "## 프로젝트: Vocabulary Size를 변경해서 시도해보기\n",
        "### 학습 목표\n",
        "* 로이터 뉴스 데이터 이해하기\n",
        "* F1-score와 confusion matrix 출력해보기\n",
        "* 여러 머신러닝 모델에 대해서 성능 비교해보기\n",
        "* 단어 수에 따른 성능 비교해보기\n",
        "\n",
        "### 목차\n",
        "#### 1. 들어가며         \n",
        "  1-1. 데이터 준비         \n",
        "#### 2. 프로젝트         \n",
        "  2-1. 모든 단어 사용         \n",
        "  2-2. 벡터화 하기         \n",
        "  2-3. 모델 학습         \n",
        "  2-4. 단어 5000개 사용         \n",
        "  2-5. 단어 10000개 사용         \n",
        "  2-6. 딥러닝 모델과 비교해 보기         \n",
        "\n",
        "#### 3. 회고\n",
        "  3-1. 최종 정리         \n",
        "  3-2. 참고사이트         \n",
        "\n",
        "\n",
        "### 루브릭 평가 기준\n",
        "|평가문항|상세기준|\n",
        "|:---|:---|\n",
        "|1. 분류 모델의 accuracy가 기준 이상 높게 나왔는가?|3가지 단어 개수에 대해 8가지 머신러닝 기법을 적용하여 그중 최적의 솔루션을 도출하였다.|\n",
        "|2. 분류 모델의 F1 score가 기준 이상 높게 나왔는가?|Vocabulary size에 따른 각 머신러닝 모델의 성능변화 추이를 살피고, 해당 머신러닝 알고리즘의 특성에 근거해 원인을 분석하였다.|\n",
        "|3. 딥러닝 모델을 활용해 성능이 비교 및 확인되었는가?|동일한 데이터셋과 전처리 조건으로 딥러닝 모델의 성능과 비교하여 결과에 따른 원인을 분석하였다.|   \n",
        "<br/>\n",
        "\n",
        "----\n"
      ]
    },
    {
      "cell_type": "markdown",
      "source": [
        "### 1. 들어가며\n"
      ],
      "metadata": {
        "id": "k1SelS7PAfri"
      }
    },
    {
      "cell_type": "markdown",
      "metadata": {
        "id": "nDbwdSIEg4F0"
      },
      "source": [
        "### 1-1. 데이터 준비\n",
        "#### Google Drive Connect"
      ]
    },
    {
      "cell_type": "code",
      "execution_count": null,
      "metadata": {
        "colab": {
          "base_uri": "https://localhost:8080/"
        },
        "id": "d3tQHuh2g1ac",
        "outputId": "0c56de8c-2921-4792-f8ea-db81acf00cca"
      },
      "outputs": [
        {
          "output_type": "stream",
          "name": "stdout",
          "text": [
            "Drive already mounted at /content/drive; to attempt to forcibly remount, call drive.mount(\"/content/drive\", force_remount=True).\n"
          ]
        }
      ],
      "source": [
        "# connect google drive\n",
        "from google.colab import drive\n",
        "drive.mount('/content/drive')"
      ]
    },
    {
      "cell_type": "markdown",
      "metadata": {
        "id": "KoHQD5vUmjWY"
      },
      "source": [
        "#### 라이브러리 버전 확인\n"
      ]
    },
    {
      "cell_type": "code",
      "execution_count": null,
      "metadata": {
        "id": "k9s21e9NmjPy",
        "colab": {
          "base_uri": "https://localhost:8080/"
        },
        "outputId": "45d0b7dc-e3c8-4d87-c0bd-022421cf7eca"
      },
      "outputs": [
        {
          "output_type": "stream",
          "name": "stdout",
          "text": [
            "2.8.0\n",
            "3.2.2\n",
            "0.11.2\n",
            "1.21.5\n",
            "1.3.5\n",
            "1.0.2\n"
          ]
        }
      ],
      "source": [
        "import tensorflow\n",
        "import matplotlib\n",
        "import seaborn \n",
        "import numpy \n",
        "import pandas\n",
        "import sklearn\n",
        "\n",
        "from tensorflow.keras.datasets import reuters\n",
        "import matplotlib.pyplot as plt\n",
        "\n",
        "\n",
        "print(tensorflow.__version__)\n",
        "print(matplotlib.__version__)\n",
        "print(seaborn.__version__)\n",
        "print(numpy.__version__)\n",
        "print(pandas.__version__)\n",
        "print(sklearn.__version__)"
      ]
    },
    {
      "cell_type": "markdown",
      "source": [
        "### 1-2. 모든 단어 사용"
      ],
      "metadata": {
        "id": "B3zqSNi5Daha"
      }
    },
    {
      "cell_type": "code",
      "source": [
        "(x_train, y_train), (x_test, y_test) = reuters.load_data(num_words=None, test_split=0.2)"
      ],
      "metadata": {
        "id": "smAImbakDYq6"
      },
      "execution_count": null,
      "outputs": []
    },
    {
      "cell_type": "code",
      "source": [
        "print('훈련 샘플의 수: {}'.format(len(x_train)))\n",
        "print('테스트 샘플의 수: {}'.format(len(x_test)))"
      ],
      "metadata": {
        "colab": {
          "base_uri": "https://localhost:8080/"
        },
        "id": "DXyjiVxuDmzW",
        "outputId": "c289ddd0-2e5f-4650-886c-9dd3c638c5ea"
      },
      "execution_count": null,
      "outputs": [
        {
          "output_type": "stream",
          "name": "stdout",
          "text": [
            "훈련 샘플의 수: 8982\n",
            "테스트 샘플의 수: 2246\n"
          ]
        }
      ]
    },
    {
      "cell_type": "code",
      "source": [
        "num_classes = max(y_train) + 1\n",
        "print('클래스의 수 : {}'.format(num_classes))"
      ],
      "metadata": {
        "colab": {
          "base_uri": "https://localhost:8080/"
        },
        "id": "lztq7E4xDyBa",
        "outputId": "c348802c-e87e-4d0a-d5e9-68272ba49194"
      },
      "execution_count": null,
      "outputs": [
        {
          "output_type": "stream",
          "name": "stdout",
          "text": [
            "클래스의 수 : 46\n"
          ]
        }
      ]
    },
    {
      "cell_type": "markdown",
      "metadata": {
        "id": "kBdyLCVyjXv4"
      },
      "source": [
        "#### 데이터 분포 확인해보기"
      ]
    },
    {
      "cell_type": "code",
      "execution_count": null,
      "metadata": {
        "colab": {
          "base_uri": "https://localhost:8080/",
          "height": 314
        },
        "id": "nssE3anzjXv4",
        "outputId": "629b96a9-550a-4a61-839f-c6e3317ae511"
      },
      "outputs": [
        {
          "output_type": "stream",
          "name": "stdout",
          "text": [
            "훈련용 뉴스의 최대 길이 :2376\n",
            "훈련용 뉴스의 평균 길이 :145.5398574927633\n"
          ]
        },
        {
          "output_type": "display_data",
          "data": {
            "text/plain": [
              "<Figure size 432x288 with 1 Axes>"
            ],
            "image/png": "[encoded data removed]"
          },
          "metadata": {
            "needs_background": "light"
          }
        }
      ],
      "source": [
        "print('훈련용 뉴스의 최대 길이 :{}'.format(max(len(l) for l in x_train)))\n",
        "print('훈련용 뉴스의 평균 길이 :{}'.format(sum(map(len, x_train))/len(x_train)))\n",
        "\n",
        "plt.hist([len(s) for s in x_train], bins=50)\n",
        "plt.xlabel('length of samples')\n",
        "plt.ylabel('number of samples')\n",
        "plt.show()"
      ]
    },
    {
      "cell_type": "markdown",
      "source": [
        "#### 원본 뉴스 데이터로 복원하기"
      ],
      "metadata": {
        "id": "MGha8nW5EbYL"
      }
    },
    {
      "cell_type": "code",
      "source": [
        "word_index = reuters.get_word_index(path=\"reuters_word_index.json\")"
      ],
      "metadata": {
        "id": "h3i0a5UWEeCw"
      },
      "execution_count": null,
      "outputs": []
    },
    {
      "cell_type": "markdown",
      "source": [
        "#### 정수로부터 단어를 얻을 수 있는 index_to_word 함수 생성"
      ],
      "metadata": {
        "id": "tFejHFpVEiC1"
      }
    },
    {
      "cell_type": "code",
      "source": [
        "index_to_word = { index+3 : word for word, index in word_index.items() }"
      ],
      "metadata": {
        "id": "OaZN1NRPEnEE"
      },
      "execution_count": null,
      "outputs": []
    },
    {
      "cell_type": "markdown",
      "source": [
        "#### index_to_word 확인하기"
      ],
      "metadata": {
        "id": "-lhO1pmlEvNh"
      }
    },
    {
      "cell_type": "code",
      "source": [
        "print(index_to_word[4])\n",
        "print(index_to_word[16])"
      ],
      "metadata": {
        "colab": {
          "base_uri": "https://localhost:8080/"
        },
        "id": "eqdpqAs4EqRf",
        "outputId": "b34c02a4-7f74-4c74-f66f-f6abc85a01d2"
      },
      "execution_count": null,
      "outputs": [
        {
          "output_type": "stream",
          "name": "stdout",
          "text": [
            "the\n",
            "it\n"
          ]
        }
      ]
    },
    {
      "cell_type": "markdown",
      "source": [
        "#### index_to_word에 맵핑되어 저장된 번호를 진짜 index 로 만들기 "
      ],
      "metadata": {
        "id": "6bUWB5b9FA6a"
      }
    },
    {
      "cell_type": "code",
      "source": [
        "# index_to_word에 숫자 0은 <pad>, 숫자 1은 <sos>, 숫자 2는 <unk>를 넣어줍니다.\n",
        "for index, token in enumerate((\"<pad>\", \"<sos>\", \"<unk>\")):\n",
        "  index_to_word[index]=token"
      ],
      "metadata": {
        "id": "28KvjGsxFI7W"
      },
      "execution_count": null,
      "outputs": []
    },
    {
      "cell_type": "markdown",
      "source": [
        "#### 첫번째 훈련용 뉴스 기사를 원래 텍스트로 복원하기"
      ],
      "metadata": {
        "id": "PJY6ZGj6E_y6"
      }
    },
    {
      "cell_type": "code",
      "source": [
        "print(' '.join([index_to_word[index] for index in x_train[0]]))"
      ],
      "metadata": {
        "colab": {
          "base_uri": "https://localhost:8080/"
        },
        "id": "e37yUZrzFZdf",
        "outputId": "08cd17de-b9e4-40b1-b24a-7da45356cfb2"
      },
      "execution_count": null,
      "outputs": [
        {
          "output_type": "stream",
          "name": "stdout",
          "text": [
            "<sos> mcgrath rentcorp said as a result of its december acquisition of space co it expects earnings per share in 1987 of 1 15 to 1 30 dlrs per share up from 70 cts in 1986 the company said pretax net should rise to nine to 10 mln dlrs from six mln dlrs in 1986 and rental operation revenues to 19 to 22 mln dlrs from 12 5 mln dlrs it said cash flow per share this year should be 2 50 to three dlrs reuter 3\n"
          ]
        }
      ]
    },
    {
      "cell_type": "code",
      "source": [
        "x_train[0]"
      ],
      "metadata": {
        "colab": {
          "base_uri": "https://localhost:8080/"
        },
        "id": "2Y9ThYUQFwvA",
        "outputId": "c9ef1c48-d2b3-415c-ed82-d74d192f7239"
      },
      "execution_count": null,
      "outputs": [
        {
          "output_type": "execute_result",
          "data": {
            "text/plain": [
              "[1,\n",
              " 27595,\n",
              " 28842,\n",
              " 8,\n",
              " 43,\n",
              " 10,\n",
              " 447,\n",
              " 5,\n",
              " 25,\n",
              " 207,\n",
              " 270,\n",
              " 5,\n",
              " 3095,\n",
              " 111,\n",
              " 16,\n",
              " 369,\n",
              " 186,\n",
              " 90,\n",
              " 67,\n",
              " 7,\n",
              " 89,\n",
              " 5,\n",
              " 19,\n",
              " 102,\n",
              " 6,\n",
              " 19,\n",
              " 124,\n",
              " 15,\n",
              " 90,\n",
              " 67,\n",
              " 84,\n",
              " 22,\n",
              " 482,\n",
              " 26,\n",
              " 7,\n",
              " 48,\n",
              " 4,\n",
              " 49,\n",
              " 8,\n",
              " 864,\n",
              " 39,\n",
              " 209,\n",
              " 154,\n",
              " 6,\n",
              " 151,\n",
              " 6,\n",
              " 83,\n",
              " 11,\n",
              " 15,\n",
              " 22,\n",
              " 155,\n",
              " 11,\n",
              " 15,\n",
              " 7,\n",
              " 48,\n",
              " 9,\n",
              " 4579,\n",
              " 1005,\n",
              " 504,\n",
              " 6,\n",
              " 258,\n",
              " 6,\n",
              " 272,\n",
              " 11,\n",
              " 15,\n",
              " 22,\n",
              " 134,\n",
              " 44,\n",
              " 11,\n",
              " 15,\n",
              " 16,\n",
              " 8,\n",
              " 197,\n",
              " 1245,\n",
              " 90,\n",
              " 67,\n",
              " 52,\n",
              " 29,\n",
              " 209,\n",
              " 30,\n",
              " 32,\n",
              " 132,\n",
              " 6,\n",
              " 109,\n",
              " 15,\n",
              " 17,\n",
              " 12]"
            ]
          },
          "metadata": {},
          "execution_count": 57
        }
      ]
    },
    {
      "cell_type": "code",
      "source": [
        "word_index['rentcorp']"
      ],
      "metadata": {
        "colab": {
          "base_uri": "https://localhost:8080/"
        },
        "id": "DcLCz9JjFz5J",
        "outputId": "92d7c6a7-c20c-48c6-f45d-b9778bad232d"
      },
      "execution_count": null,
      "outputs": [
        {
          "output_type": "execute_result",
          "data": {
            "text/plain": [
              "28839"
            ]
          },
          "metadata": {},
          "execution_count": 58
        }
      ]
    },
    {
      "cell_type": "markdown",
      "source": [
        "#### 훈련용 뉴스 데이터와 전체 테스트용 뉴스 데이터를 텍스트 데이터로 변환"
      ],
      "metadata": {
        "id": "ckGqyikHFwcx"
      }
    },
    {
      "cell_type": "code",
      "source": [
        "decoded = []\n",
        "for i in range(len(x_train)):\n",
        "    t = ' '.join([index_to_word[index] for index in x_train[i]])\n",
        "    decoded.append(t)\n",
        "\n",
        "x_train = decoded\n",
        "print(len(x_train))"
      ],
      "metadata": {
        "colab": {
          "base_uri": "https://localhost:8080/"
        },
        "id": "jh1A4aqdGUc5",
        "outputId": "23cfad4e-4cd5-44da-9dd2-707f246b9ecc"
      },
      "execution_count": null,
      "outputs": [
        {
          "output_type": "stream",
          "name": "stdout",
          "text": [
            "8982\n"
          ]
        }
      ]
    },
    {
      "cell_type": "code",
      "source": [
        "decoded = []\n",
        "for i in range(len(x_test)):\n",
        "    t = ' '.join([index_to_word[index] for index in x_test[i]])\n",
        "    decoded.append(t)\n",
        "\n",
        "x_test = decoded\n",
        "print(len(x_test))"
      ],
      "metadata": {
        "colab": {
          "base_uri": "https://localhost:8080/"
        },
        "id": "M1Kar0GhGVib",
        "outputId": "4bfe3a59-b8f4-4d57-d0e4-20e2a44b39e5"
      },
      "execution_count": null,
      "outputs": [
        {
          "output_type": "stream",
          "name": "stdout",
          "text": [
            "2246\n"
          ]
        }
      ]
    },
    {
      "cell_type": "markdown",
      "source": [
        "#### 각각 5개씩 제대로 잘 변환되었는지 확인해보기"
      ],
      "metadata": {
        "id": "ZafUnOinE-Ek"
      }
    },
    {
      "cell_type": "code",
      "source": [
        "x_train[:5]"
      ],
      "metadata": {
        "colab": {
          "base_uri": "https://localhost:8080/"
        },
        "id": "QAu2xg3vGc0Z",
        "outputId": "ac4935ef-1776-4c2a-f6a6-9c70ef90ef96"
      },
      "execution_count": null,
      "outputs": [
        {
          "output_type": "execute_result",
          "data": {
            "text/plain": [
              "['<sos> mcgrath rentcorp said as a result of its december acquisition of space co it expects earnings per share in 1987 of 1 15 to 1 30 dlrs per share up from 70 cts in 1986 the company said pretax net should rise to nine to 10 mln dlrs from six mln dlrs in 1986 and rental operation revenues to 19 to 22 mln dlrs from 12 5 mln dlrs it said cash flow per share this year should be 2 50 to three dlrs reuter 3',\n",
              " \"<sos> generale de banque sa lt genb br and lt heller overseas corp of chicago have each taken 50 pct stakes in factoring company sa belgo factors generale de banque said in a statement it gave no financial details of the transaction sa belgo factors' turnover in 1986 was 17 5 billion belgian francs reuter 3\",\n",
              " '<sos> shr 3 28 dlrs vs 22 cts shr diluted 2 99 dlrs vs 22 cts net 46 0 mln vs 3 328 000 avg shrs 14 0 mln vs 15 2 mln year shr 5 41 dlrs vs 1 56 dlrs shr diluted 4 94 dlrs vs 1 50 dlrs net 78 2 mln vs 25 9 mln avg shrs 14 5 mln vs 15 1 mln note earnings per share reflect the two for one split effective january 6 1987 per share amounts are calculated after preferred stock dividends loss continuing operations for the qtr 1986 includes gains of sale of investments in enron corp of 14 mln dlrs and associated companies of 4 189 000 less writedowns of investments in national intergroup inc of 11 8 mln and brae corp of 15 6 mln reuter 3',\n",
              " \"<sos> the farmers home administration the u s agriculture department's farm lending arm could lose about seven billion dlrs in outstanding principal on its severely delinquent borrowers or about one fourth of its farm loan portfolio the general accounting office gao said in remarks prepared for delivery to the senate agriculture committee brian crowley senior associate director of gao also said that a preliminary analysis of proposed changes in fmha's financial eligibility standards indicated as many as one half of fmha borrowers who received new loans from the agency in 1986 would be ineligible under the proposed system the agency has proposed evaluating applicants' credit using a variety of financial ratios instead of relying solely on cashflow ability senate agriculture committee chairman patrick leahy d vt slammed the proposed eligibility changes telling fmha administrator vance clark at a hearing that they would mark a dramatic shift in the agency's purpose away from being farmers' lender of last resort toward becoming a big city bank but clark defended the new regulations saying the agency had a responsibility to administer its 70 billion dlr loan portfolio in a compassionate yet judicious manner crowley of gao congress' investigative arm said the proposed credit scoring system attempted to ensure that fmha would make loans only to borrowers who had a reasonable change of repaying their debt reuter 3\",\n",
              " '<sos> seton co said its board has received a proposal from chairman and chief executive officer philip d kaltenbacher to acquire seton for 15 75 dlrs per share in cash seton said the acquisition bid is subject to kaltenbacher arranging the necessary financing it said he intends to ask other members of senior management to participate the company said kaltenbacher owns 30 pct of seton stock and other management members another 7 5 pct seton said it has formed an independent board committee to consider the offer and has deferred the annual meeting it had scheduled for march 31 reuter 3']"
            ]
          },
          "metadata": {},
          "execution_count": 61
        }
      ]
    },
    {
      "cell_type": "code",
      "source": [
        "x_test[:5]"
      ],
      "metadata": {
        "colab": {
          "base_uri": "https://localhost:8080/"
        },
        "id": "LoowB6MtGdMl",
        "outputId": "6f322be0-5135-45db-8ede-0c878137ca90"
      },
      "execution_count": null,
      "outputs": [
        {
          "output_type": "execute_result",
          "data": {
            "text/plain": [
              "['<sos> the great atlantic and pacific tea co said its three year 345 mln dlr capital program will be be substantially increased to accommodate growth and expansion plans for waldbaum inc and shopwell inc over the next two years a and p said the acquisition of shopwell in august 1986 and waldbaum in december helped us achieve better than expected results in the fourth quarter ended february 28 its net income from continuing operations jumped 52 6 pct to 20 7 mln dlrs or 55 cts a share in the latest quarter as sales increased 48 3 pct to 1 58 billion dlrs a and p gave no details on the expanded capital program but it did say it completed the first year of the program during 1986 a and p is 52 4 pct owned by lt tengelmann warenhandelsgesellschaft of west germany reuter 3',\n",
              " \"<sos> philippine sugar production in the 1987 88 crop year ending august has been set at 1 6 mln tonnes up from a provisional 1 3 mln tonnes this year sugar regulatory administration sra chairman arsenio yulo said yulo told reuters a survey during the current milling season which ends next month showed the 1986 87 estimate would almost certainly be met he said at least 1 2 mln tonnes of the 1987 88 crop would be earmarked for domestic consumption yulo said about 130 000 tonnes would be set aside for the u s sugar quota 150 000 tonnes for strategic reserves and 50 000 tonnes would be sold on the world market he said if the government approved a long standing sra recommendation to manufacture ethanol the project would take up another 150 000 tonnes slightly raising the target the government for its own reasons has been delaying approval of the project but we expect it to come through by july yulo said ethanol could make up five pct of gasoline cutting the oil import bill by about 300 mln pesos yulo said three major philippine distilleries were ready to start manufacturing ethanol if the project was approved the ethanol project would result in employment for about 100 000 people sharply reducing those thrown out of work by depressed world sugar prices and a moribund domestic industry production quotas set for the first time in 1987 88 had been submitted to president corazon aquino i think the president would rather wait till the new congress convenes after the may elections he said but there is really no need for such quotas we are right now producing just slightly over our own consumption level the producers have never enjoyed such high prices yulo said adding sugar was currently selling locally for 320 pesos per picul up from 190 pesos last august yulo said prices were driven up because of speculation following the sra's bid to control production we are no longer concerned so much with the world market he said adding producers in the negros region had learned from their mistakes and diversified into corn and prawn farming and cloth production he said diversification into products other than ethanol was also possible within the sugar industry the brazilians long ago learnt their lessons yulo said they have 300 sugar mills compared with our 41 but they relocated many of them and diversified production we want to call this a 'sugarcane industry' instead of the sugar industry he said sugarcane could be fed to pigs and livestock used for thatching roofs or used in room panelling when you cut sugarcane you don't even have to produce sugar he said yulo said the philippines was lobbying for a renewal of the international sugar agreement which expired in 1984 as a major sugar producer we are urging them to write a new agreement which would revive world prices yulo said if there is no agreement world prices will always be depressed particularly because the european community is subsidising its producers and dumping sugar on the markets he said current world prices holding steady at about 7 60 cents per pound were uneconomical for the philippines where production costs ranged from 12 to 14 cents a pound if the price holds steady for a while at 7 60 cents i expect the level to rise to about 11 cents a pound by the end of this year he said yulo said economists forecast a bullish sugar market by 1990 with world consumption outstripping production he said sugar markets were holding up despite encroachments from artificial sweeteners and high fructose corn syrup but we are not happy with the reagan administration he said since 1935 we have been regular suppliers of sugar to the u s in 1982 when they restored the quota system they cut ours in half without any justification manila was keenly watching washington's moves to cut domestic support prices to 12 cents a pound from 18 cents the u s agriculture department last december slashed its 12 month 1987 sugar import quota from the philippines to 143 780 short tons from 231 660 short tons in 1986 yulo said despite next year's increased production target some philippine mills were expected to shut down at least four of the 41 mills were not working during the 1986 87 season he said we expect two or three more to follow suit during the next season reuter 3\",\n",
              " \"<sos> the agriculture department's widening of louisiana gulf differentials will affect county posted prices for number two yellow corn in ten states a usda official said all counties in iowa will be affected as will counties which use the gulf to price corn in illinois indiana tennessee kentucky missouri mississippi arkansas alabama and louisiana said ron burgess deputy director of commodity operations division for the usda usda last night notified the grain industry that effective immediately all gulf differentials used to price interior corn would be widened on a sliding scale basis of four to eight cts depending on what the differential is usda's action was taken to lower excessively high posted county prices for corn caused by high gulf prices we've been following this louisiana gulf situation for a month and we don't think it's going to get back in line in any nearby time burgess said burgess said usda will probably narrow back the gulf differentials when and if gulf prices recede if we're off the mark now because we're too high wouldn't we be as much off the mark if we're too low he said while forecasting more adjustments if gulf prices fall burgess said no other changes in usda's price system are being planned right now we don't tinker we don't make changes lightly and we don't make changes often he said reuter 3\",\n",
              " '<sos> graham mccormick oil and gas partnership said it completed the sale of interests in two major oil and gas fields to lt energy assets international corp for 21 mln dlrs the company said it sold about one half of its 50 pct interest in the oak hill and north rucias fields its two largest producing properties it said it used about 20 mln dlrs of the proceeds to prepay principal on its senior secured notes semi annual principal payments on the remaining 40 mln dlrs of notes have been satisfied until december 1988 as a result it said the company said the note agreements were amended to reflect an easing of some financial covenants and an increase of interest to 13 5 pct from 13 0 pct until december 1990 it said the noteholders exercise price for 1 125 000 warrants was also reduced to 50 cts from 1 50 dlrs the company said energy assets agreed to share the costs of increasing production at the oak hill field reuter 3',\n",
              " '<sos> strong south easterly winds were keeping many vessels trapped in the ice off the finnish and swedish coasts in one of the worst icy periods in the baltic for many years the finnish board of navigation said in finland and sweden up to 50 vessels were reported to be stuck in the ice and even the largest of the assisting icebreakers were having difficulties in breaking through to the stranded ships coastguard officials said however icy conditions in the southern baltic at the soviet oil ports of ventspils and klaipeda had eased they said weather officials in neighbouring sweden said the icy conditions in the baltic were the worst for 30 years with ships fighting a losing battle to keep moving in the coastal stretches of the gulf of bothnia which divides finland and sweden the ice is up to one metre thick with drifts and currents packing it into almost impenetrable walls three metres high swedish coastguard officials said weather forecasts say winds may ease during the weekend but a further drop in temperature could bring shipping to a standstill the officials said reuter 3']"
            ]
          },
          "metadata": {},
          "execution_count": 62
        }
      ]
    },
    {
      "cell_type": "markdown",
      "source": [
        "### 1-3. 벡터화 하기"
      ],
      "metadata": {
        "id": "92nXb87MGmht"
      }
    },
    {
      "cell_type": "markdown",
      "source": [
        "#### 필요한 도구 import"
      ],
      "metadata": {
        "id": "68fj5JhsGt9n"
      }
    },
    {
      "cell_type": "code",
      "source": [
        "from sklearn.feature_extraction.text import CountVectorizer\n",
        "from sklearn.feature_extraction.text import TfidfTransformer"
      ],
      "metadata": {
        "id": "34Od3fGcGmdU"
      },
      "execution_count": null,
      "outputs": []
    },
    {
      "cell_type": "markdown",
      "source": [
        "#### DTM을 생성 & 크기 확인"
      ],
      "metadata": {
        "id": "sdZD2zYHGmaJ"
      }
    },
    {
      "cell_type": "code",
      "source": [
        "dtmvector = CountVectorizer()\n",
        "x_train_dtm = dtmvector.fit_transform(x_train)\n",
        "print(x_train_dtm.shape)"
      ],
      "metadata": {
        "colab": {
          "base_uri": "https://localhost:8080/"
        },
        "id": "oiKBwI6HGmVw",
        "outputId": "aec377e3-7222-46dc-fae7-796b020f516e"
      },
      "execution_count": null,
      "outputs": [
        {
          "output_type": "stream",
          "name": "stdout",
          "text": [
            "(8982, 26506)\n"
          ]
        }
      ]
    },
    {
      "cell_type": "markdown",
      "source": [
        "#### TF-IDF 행렬 생성 & 크기 확인"
      ],
      "metadata": {
        "id": "OdYFhM_UGmSl"
      }
    },
    {
      "cell_type": "code",
      "source": [
        "tfidf_transformer = TfidfTransformer()\n",
        "tfidfv = tfidf_transformer.fit_transform(x_train_dtm)\n",
        "print(tfidfv.shape)"
      ],
      "metadata": {
        "colab": {
          "base_uri": "https://localhost:8080/"
        },
        "id": "8BqVq2ykGmOt",
        "outputId": "73400fa3-3f7c-4139-ef4e-dad56bf60aeb"
      },
      "execution_count": null,
      "outputs": [
        {
          "output_type": "stream",
          "name": "stdout",
          "text": [
            "(8982, 26506)\n"
          ]
        }
      ]
    },
    {
      "cell_type": "markdown",
      "source": [
        "### 1-4. 모델 학습\n"
      ],
      "metadata": {
        "id": "IVn4vuRQGmLE"
      }
    },
    {
      "cell_type": "markdown",
      "source": [
        "#### 라이브러리 불러오기\n",
        "* 나이브 베이즈 분류기\n",
        "* 로지스틱 회귀\n",
        "* Complement Naive Bayes Classifier, CNB\n",
        "* 결정 트리\n",
        "* 랜덤 포레스트\n",
        "* 그라디언트 부스팅\n",
        "* 보팅\n",
        "* 선형 SVC\n"
      ],
      "metadata": {
        "id": "9zB0e7bkHHAc"
      }
    },
    {
      "cell_type": "code",
      "source": [
        "from sklearn.naive_bayes import MultinomialNB #다항분포 나이브 베이즈 모델\n",
        "from sklearn.linear_model import LogisticRegression, SGDClassifier\n",
        "from sklearn.naive_bayes import ComplementNB\n",
        "from sklearn.tree import DecisionTreeClassifier\n",
        "from sklearn.ensemble import RandomForestClassifier\n",
        "from sklearn.ensemble import GradientBoostingClassifier\n",
        "from sklearn.ensemble import VotingClassifier\n",
        "from sklearn.svm import LinearSVC\n",
        "from sklearn.metrics import accuracy_score #정확도 계산\n"
      ],
      "metadata": {
        "id": "7jd5tAqMGmG3"
      },
      "execution_count": null,
      "outputs": []
    },
    {
      "cell_type": "markdown",
      "source": [
        "#### 테스트 데이터를 TF-IDF 행렬로 변환\n",
        "* 테스트 데이터에 대한 정확도를 측정하기 위해서 훈련 데이터와 동일한 전처리 해야함\n",
        "* ```predict()``` 함수를 통해 예측값을 얻어 정확도 측정"
      ],
      "metadata": {
        "id": "1BCtj3a0Gl7s"
      }
    },
    {
      "cell_type": "code",
      "source": [
        "x_test_dtm = dtmvector.transform(x_test) #테스트 데이터를 DTM으로 변환\n",
        "tfidfv_test = tfidf_transformer.transform(x_test_dtm) #DTM을 TF-IDF 행렬로 변환"
      ],
      "metadata": {
        "id": "xnahWdt2Gl3h"
      },
      "execution_count": null,
      "outputs": []
    },
    {
      "cell_type": "markdown",
      "source": [
        "#### 나이브 베이즈 분류기\n",
        "* 사이킷런의  ```MultinomialNB()``` 을 통해 사용 가능\n",
        "\n",
        "#### 훈련 데이터와 해당 훈련 데이터에 대한 레이블을 인자로 사용하여 학습"
      ],
      "metadata": {
        "id": "xh8t7uRuGmDh"
      }
    },
    {
      "cell_type": "code",
      "source": [
        "nb = MultinomialNB()\n",
        "nb.fit(tfidfv, y_train)\n",
        "\n",
        "nb_predicted = nb.predict(tfidfv_test) #테스트 데이터에 대한 예측\n",
        "print(\"나이브 베이즈 정확도:\", accuracy_score(y_test, nb_predicted)) #예측값과 실제값 비교"
      ],
      "metadata": {
        "colab": {
          "base_uri": "https://localhost:8080/"
        },
        "id": "hvv2n7DWGl_2",
        "outputId": "18d2ec92-28ba-4c95-c17a-c113c5f77ebc"
      },
      "execution_count": null,
      "outputs": [
        {
          "output_type": "stream",
          "name": "stdout",
          "text": [
            "나이브 베이즈 정확도: 0.5997328584149599\n"
          ]
        }
      ]
    },
    {
      "cell_type": "markdown",
      "source": [
        "#### Complement Naive Bayes Classifier(CNB)\n",
        "* 데이터가 불균형할 경우를 대비해 나이브 베이즈 분류기를 보완한 것이 컴플리먼트 나이브 베이즈 분류기\n",
        "* 나이브 베이즈 분류기보다 일반적으로 성능이 더 좋음"
      ],
      "metadata": {
        "id": "ODhVpxdQGlz5"
      }
    },
    {
      "cell_type": "code",
      "source": [
        "cb = ComplementNB()\n",
        "cb.fit(tfidfv, y_train)\n",
        "\n",
        "cb_predicted = cb.predict(tfidfv_test) #테스트 데이터에 대한 예측\n",
        "print(\"CNB 정확도:\", accuracy_score(y_test, cb_predicted)) #예측값과 실제값 비교"
      ],
      "metadata": {
        "colab": {
          "base_uri": "https://localhost:8080/"
        },
        "id": "3FmL5U_oGlvt",
        "outputId": "c5a1cb7d-08f7-4ab5-af75-698cd4921e69"
      },
      "execution_count": null,
      "outputs": [
        {
          "output_type": "stream",
          "name": "stdout",
          "text": [
            "CNB 정확도: 0.7649154051647373\n"
          ]
        }
      ]
    },
    {
      "cell_type": "markdown",
      "source": [
        "#### 로지스틱 회귀(Logistic Regression)"
      ],
      "metadata": {
        "id": "WK1Yd7QfGlrS"
      }
    },
    {
      "cell_type": "code",
      "source": [
        "lr = LogisticRegression(C=10000, penalty='l2')\n",
        "lr.fit(tfidfv, y_train)\n",
        "\n",
        "lr_predicted = lr.predict(tfidfv_test) #테스트 데이터에 대한 예측\n",
        "print(\"정확도:\", accuracy_score(y_test, lr_predicted)) #예측값과 실제값 비교"
      ],
      "metadata": {
        "colab": {
          "base_uri": "https://localhost:8080/"
        },
        "id": "I0-tn9UjGlm1",
        "outputId": "9c5801ae-00c0-42e9-89c3-cfac809f041f"
      },
      "execution_count": null,
      "outputs": [
        {
          "output_type": "stream",
          "name": "stdout",
          "text": [
            "정확도: 0.813446126447017\n"
          ]
        },
        {
          "output_type": "stream",
          "name": "stderr",
          "text": [
            "/usr/local/lib/python3.7/dist-packages/sklearn/linear_model/_logistic.py:818: ConvergenceWarning: lbfgs failed to converge (status=1):\n",
            "STOP: TOTAL NO. of ITERATIONS REACHED LIMIT.\n",
            "\n",
            "Increase the number of iterations (max_iter) or scale the data as shown in:\n",
            "    https://scikit-learn.org/stable/modules/preprocessing.html\n",
            "Please also refer to the documentation for alternative solver options:\n",
            "    https://scikit-learn.org/stable/modules/linear_model.html#logistic-regression\n",
            "  extra_warning_msg=_LOGISTIC_SOLVER_CONVERGENCE_MSG,\n"
          ]
        }
      ]
    },
    {
      "cell_type": "markdown",
      "source": [
        "#### 선형 서포트 벡터 머신(Linear Support Vector Machine)"
      ],
      "metadata": {
        "id": "A8FK99cDGliH"
      }
    },
    {
      "cell_type": "code",
      "source": [
        "lsvc = LinearSVC(C=1000, penalty='l1', max_iter=500, dual=False)\n",
        "lsvc.fit(tfidfv, y_train)\n",
        "\n",
        "lsvc_predicted = lsvc.predict(tfidfv_test) #테스트 데이터에 대한 예측\n",
        "print(\"선형 서포트 벡터 머신 정확도:\", accuracy_score(y_test, lsvc_predicted)) #예측값과 실제값 비교"
      ],
      "metadata": {
        "colab": {
          "base_uri": "https://localhost:8080/"
        },
        "id": "ptZbfi6CGlc7",
        "outputId": "2fda882d-92f6-4c64-8ce9-35e3bc3b8f43"
      },
      "execution_count": null,
      "outputs": [
        {
          "output_type": "stream",
          "name": "stdout",
          "text": [
            "선형 서포트 벡터 머신 정확도: 0.7880676758682101\n"
          ]
        },
        {
          "output_type": "stream",
          "name": "stderr",
          "text": [
            "/usr/local/lib/python3.7/dist-packages/sklearn/svm/_base.py:1208: ConvergenceWarning: Liblinear failed to converge, increase the number of iterations.\n",
            "  ConvergenceWarning,\n"
          ]
        }
      ]
    },
    {
      "cell_type": "markdown",
      "source": [
        "#### 결정 트리(Decision Tree)"
      ],
      "metadata": {
        "id": "vtyw7h7mGlWr"
      }
    },
    {
      "cell_type": "code",
      "source": [
        "tree = DecisionTreeClassifier(max_depth=10, random_state=0)\n",
        "tree.fit(tfidfv, y_train)\n",
        "\n",
        "tree_predicted = tree.predict(tfidfv_test) #테스트 데이터에 대한 예측\n",
        "print(\"결정 트리 정확도:\", accuracy_score(y_test, tree_predicted)) #예측값과 실제값 비교"
      ],
      "metadata": {
        "colab": {
          "base_uri": "https://localhost:8080/"
        },
        "id": "qko6qRvLGlRO",
        "outputId": "04d1f7a6-537e-4ae0-bd74-5c120aff9cd2"
      },
      "execution_count": null,
      "outputs": [
        {
          "output_type": "stream",
          "name": "stdout",
          "text": [
            "결정 트리 정확도: 0.6211041852181657\n"
          ]
        }
      ]
    },
    {
      "cell_type": "markdown",
      "source": [
        "#### 랜덤 포레스트(Random Forest)"
      ],
      "metadata": {
        "id": "R4TYkfOQGlG0"
      }
    },
    {
      "cell_type": "code",
      "source": [
        "forest = RandomForestClassifier(n_estimators=5, random_state=0)\n",
        "forest.fit(tfidfv, y_train)\n",
        "\n",
        "forest_predicted = forest.predict(tfidfv_test) #테스트 데이터에 대한 예측\n",
        "print(\"랜덤 포레스트 정확도:\", accuracy_score(y_test, forest_predicted)) #예측값과 실제값 비교"
      ],
      "metadata": {
        "colab": {
          "base_uri": "https://localhost:8080/"
        },
        "id": "tRWxiKlmGoGG",
        "outputId": "af10d7ec-76f0-43b9-f7cc-bd95f9bdf0fb"
      },
      "execution_count": null,
      "outputs": [
        {
          "output_type": "stream",
          "name": "stdout",
          "text": [
            "랜덤 포레스트 정확도: 0.6544968833481746\n"
          ]
        }
      ]
    },
    {
      "cell_type": "markdown",
      "source": [
        "#### 그래디언트 부스팅 트리(GradientBoostingClassifier)"
      ],
      "metadata": {
        "id": "B6Sj-V_kGoGG"
      }
    },
    {
      "cell_type": "code",
      "source": [
        "grbt = GradientBoostingClassifier(random_state=0) # verbose=3\n",
        "grbt.fit(tfidfv, y_train)\n",
        "\n",
        "grbt_predicted = grbt.predict(tfidfv_test) #테스트 데이터에 대한 예측\n",
        "print(\"그래디언트 부스팅 트리 정확도:\", accuracy_score(y_test, grbt_predicted)) #예측값과 실제값 비교"
      ],
      "metadata": {
        "colab": {
          "base_uri": "https://localhost:8080/"
        },
        "id": "6wFqcpSSGoGG",
        "outputId": "7b78679d-024e-4858-cb92-e860610bc471"
      },
      "execution_count": null,
      "outputs": [
        {
          "output_type": "stream",
          "name": "stdout",
          "text": [
            "그래디언트 부스팅 트리 정확도: 0.7702582368655387\n"
          ]
        }
      ]
    },
    {
      "cell_type": "markdown",
      "source": [
        "#### 보팅(Voting)"
      ],
      "metadata": {
        "id": "oATlMVKrGoGG"
      }
    },
    {
      "cell_type": "code",
      "source": [
        "voting_classifier = VotingClassifier(estimators=[\n",
        "         ('lr', LogisticRegression(C=10000, penalty='l2')),\n",
        "        ('cb', ComplementNB()),\n",
        "        ('grbt', GradientBoostingClassifier(random_state=0))\n",
        "], voting='soft', n_jobs=-1)\n",
        "voting_classifier.fit(tfidfv, y_train)\n",
        "\n",
        "voting_classifier_predicted = voting_classifier.predict(tfidfv_test) #테스트 데이터에 대한 예측\n",
        "print(\"보팅 정확도:\", accuracy_score(y_test, voting_classifier_predicted)) #예측값과 실제값 비교\n"
      ],
      "metadata": {
        "colab": {
          "base_uri": "https://localhost:8080/"
        },
        "id": "HsIy67DdGoGG",
        "outputId": "4efe93b9-dda6-4331-e265-c99a9c0990a8"
      },
      "execution_count": null,
      "outputs": [
        {
          "output_type": "stream",
          "name": "stdout",
          "text": [
            "보팅 정확도: 0.8187889581478184\n"
          ]
        }
      ]
    },
    {
      "cell_type": "markdown",
      "source": [
        "#### 각 모델에 대한 전체 훈련 함수 생성"
      ],
      "metadata": {
        "id": "nkvCou7WGoGG"
      }
    },
    {
      "cell_type": "code",
      "source": [
        "def train_ml(tfidfv, y_train, tfidfv_test, y_test):\n",
        "  # 나이브 베이즈 분류기\n",
        "  nb = MultinomialNB()\n",
        "  nb.fit(tfidfv, y_train)\n",
        "\n",
        "  nb_predicted = nb.predict(tfidfv_test) #테스트 데이터에 대한 예측\n",
        "  print(\"나이브 베이즈 정확도:\", accuracy_score(y_test, nb_predicted)) #예측값과 실제값 비교\n",
        "\n",
        "  # CNB\n",
        "  cb = ComplementNB()\n",
        "  cb.fit(tfidfv, y_train)\n",
        "\n",
        "  cb_predicted = cb.predict(tfidfv_test) #테스트 데이터에 대한 예측\n",
        "  print(\"CNB 정확도:\", accuracy_score(y_test, cb_predicted)) #예측값과 실제값 비교\n",
        "\n",
        "  # 로지스틱 회귀\n",
        "  lr = LogisticRegression(C=10000, penalty='l2')\n",
        "  lr.fit(tfidfv, y_train)\n",
        "\n",
        "  lr_predicted = lr.predict(tfidfv_test) #테스트 데이터에 대한 예측\n",
        "  print(\"로지스틱 회귀 정확도:\", accuracy_score(y_test, lr_predicted)) #예측값과 실제값 비교\n",
        "\n",
        "  # 선형 서포트 벡터 머신\n",
        "  lsvc = LinearSVC(C=1000, penalty='l1', max_iter=500, dual=False)\n",
        "  lsvc.fit(tfidfv, y_train)\n",
        "\n",
        "  lsvc_predicted = lsvc.predict(tfidfv_test) #테스트 데이터에 대한 예측\n",
        "  print(\"선형 서포트 벡터 머신 정확도:\", accuracy_score(y_test, lsvc_predicted)) #예측값과 실제값 비교\n",
        "\n",
        "  # 결정 트리\n",
        "  tree = DecisionTreeClassifier(max_depth=10, random_state=0)\n",
        "  tree.fit(tfidfv, y_train)\n",
        "\n",
        "  tree_predicted = tree.predict(tfidfv_test) #테스트 데이터에 대한 예측\n",
        "  print(\"결정 트리 정확도:\", accuracy_score(y_test, tree_predicted)) #예측값과 실제값 비교\n",
        "\n",
        "  # 랜덤 포레스트\n",
        "  forest = RandomForestClassifier(n_estimators=5, random_state=0)\n",
        "  forest.fit(tfidfv, y_train)\n",
        "\n",
        "  forest_predicted = forest.predict(tfidfv_test) #테스트 데이터에 대한 예측\n",
        "  print(\"랜덤 포레스트 정확도:\", accuracy_score(y_test, forest_predicted)) #예측값과 실제값 비교\n",
        "\n",
        "  # 그래디언트 부스팅 트리\n",
        "  grbt = GradientBoostingClassifier(random_state=0) # verbose=3\n",
        "  grbt.fit(tfidfv, y_train)\n",
        "\n",
        "  grbt_predicted = grbt.predict(tfidfv_test) #테스트 데이터에 대한 예측\n",
        "  print(\"그래디언트 부스팅 트리 정확도:\", accuracy_score(y_test, grbt_predicted)) #예측값과 실제값 비교\n",
        "\n",
        "  # 보팅\n",
        "  voting_classifier = VotingClassifier(estimators=[\n",
        "         ('lr', LogisticRegression(C=10000, penalty='l2')),\n",
        "        ('cb', ComplementNB()),\n",
        "        ('grbt', GradientBoostingClassifier(random_state=0))\n",
        "        ], voting='soft', n_jobs=-1)\n",
        "  voting_classifier.fit(tfidfv, y_train)\n",
        "\n",
        "  voting_classifier_predicted = voting_classifier.predict(tfidfv_test) #테스트 데이터에 대한 예측\n",
        "  print(\"보팅 정확도:\", accuracy_score(y_test, voting_classifier_predicted)) #예측값과 실제값 비교\n",
        "\n",
        "  return nb, cb, lr, lsvc, tree, forest, grbt, voting_classifier"
      ],
      "metadata": {
        "id": "WVKM-vn4GoGG"
      },
      "execution_count": null,
      "outputs": []
    },
    {
      "cell_type": "markdown",
      "source": [
        "### 1-5. 단어 5000개 사용"
      ],
      "metadata": {
        "id": "0upmoBmKGoGG"
      }
    },
    {
      "cell_type": "code",
      "source": [
        "(x_train_5k, y_train_5k), (x_test_5k, y_test_5k) = reuters.load_data(num_words=5000, test_split=0.2)"
      ],
      "metadata": {
        "id": "_CKxrcGRGoGG"
      },
      "execution_count": null,
      "outputs": []
    },
    {
      "cell_type": "markdown",
      "source": [
        "#### 훈련용 뉴스 데이터와 전체 테스트용 뉴스 데이터를 텍스트 데이터로 변환"
      ],
      "metadata": {
        "id": "BIPXRDFrLqDF"
      }
    },
    {
      "cell_type": "code",
      "source": [
        "decoded = []\n",
        "for i in range(len(x_train)):\n",
        "    t = ' '.join([index_to_word[index] for index in x_train_5k[i]])\n",
        "    decoded.append(t)\n",
        "\n",
        "x_train_5k = decoded\n",
        "print(len(x_train_5k))"
      ],
      "metadata": {
        "colab": {
          "base_uri": "https://localhost:8080/"
        },
        "outputId": "937f63eb-bf60-400a-ccdc-70d59a22dfc8",
        "id": "ztkDs6L4LqDF"
      },
      "execution_count": null,
      "outputs": [
        {
          "output_type": "stream",
          "name": "stdout",
          "text": [
            "8982\n"
          ]
        }
      ]
    },
    {
      "cell_type": "code",
      "source": [
        "decoded = []\n",
        "for i in range(len(x_test)):\n",
        "    t = ' '.join([index_to_word[index] for index in x_test_5k[i]])\n",
        "    decoded.append(t)\n",
        "\n",
        "x_test_5k = decoded\n",
        "print(len(x_test_5k))"
      ],
      "metadata": {
        "colab": {
          "base_uri": "https://localhost:8080/"
        },
        "outputId": "0d11a915-1c23-4503-ad01-7cc9024b665f",
        "id": "W8hahMHmLqDG"
      },
      "execution_count": null,
      "outputs": [
        {
          "output_type": "stream",
          "name": "stdout",
          "text": [
            "2246\n"
          ]
        }
      ]
    },
    {
      "cell_type": "markdown",
      "source": [
        "#### 행렬 변환"
      ],
      "metadata": {
        "id": "pexsJ_O0GoGH"
      }
    },
    {
      "cell_type": "markdown",
      "source": [
        "#### DTM을 생성 & 크기 확인"
      ],
      "metadata": {
        "id": "XyTDqtxvL0sR"
      }
    },
    {
      "cell_type": "code",
      "source": [
        "dtmvector = CountVectorizer()\n",
        "x_train_dtm_5k = dtmvector.fit_transform(x_train_5k)\n",
        "print(x_train_dtm_5k.shape)"
      ],
      "metadata": {
        "colab": {
          "base_uri": "https://localhost:8080/"
        },
        "outputId": "4d58afb2-e8f3-42f1-a61f-aaec79e67c6b",
        "id": "-cswE5DiL0sR"
      },
      "execution_count": null,
      "outputs": [
        {
          "output_type": "stream",
          "name": "stdout",
          "text": [
            "(8982, 4867)\n"
          ]
        }
      ]
    },
    {
      "cell_type": "markdown",
      "source": [
        "#### TF-IDF 행렬 생성 & 크기 확인"
      ],
      "metadata": {
        "id": "7HE-2z9KL0sR"
      }
    },
    {
      "cell_type": "code",
      "source": [
        "tfidf_transformer = TfidfTransformer()\n",
        "tfidfv_5k = tfidf_transformer.fit_transform(x_train_dtm_5k)\n",
        "print(tfidfv_5k.shape)"
      ],
      "metadata": {
        "colab": {
          "base_uri": "https://localhost:8080/"
        },
        "outputId": "9f973eca-9f00-47bc-840c-e861effaf4d1",
        "id": "cs6LVTSjL0sR"
      },
      "execution_count": null,
      "outputs": [
        {
          "output_type": "stream",
          "name": "stdout",
          "text": [
            "(8982, 4867)\n"
          ]
        }
      ]
    },
    {
      "cell_type": "markdown",
      "source": [
        "#### 테스트 데이터를 TF-IDF 행렬로 변환\n",
        "* 테스트 데이터에 대한 정확도를 측정하기 위해서 훈련 데이터와 동일한 전처리 해야함\n",
        "* ```predict()``` 함수를 통해 예측값을 얻어 정확도 측정"
      ],
      "metadata": {
        "id": "o6uN2DBcMDm9"
      }
    },
    {
      "cell_type": "code",
      "source": [
        "x_test_dtm_5k = dtmvector.transform(x_test_5k) #테스트 데이터를 DTM으로 변환\n",
        "tfidfv_test_5k = tfidf_transformer.transform(x_test_dtm_5k) #DTM을 TF-IDF 행렬로 변환"
      ],
      "metadata": {
        "id": "3e65e1tcMDm-"
      },
      "execution_count": null,
      "outputs": []
    },
    {
      "cell_type": "markdown",
      "source": [
        ""
      ],
      "metadata": {
        "id": "9j_LdhVZGoGH"
      }
    },
    {
      "cell_type": "code",
      "source": [
        "import time\n",
        "start = time.time() \n",
        "\n",
        "nb_5k, cb_5k, lr_5k, lsvc_5k, tree_5k, forest_5k, grbt_5k, voting_classifier_5k = train_ml(tfidfv_5k, y_train_5k, tfidfv_test_5k, y_test_5k)\n",
        "\n",
        "print(\"time :\", time.time() - start)"
      ],
      "metadata": {
        "colab": {
          "base_uri": "https://localhost:8080/"
        },
        "id": "RX6VyomIGoGH",
        "outputId": "0563ef3d-9613-4800-8233-437c00c069e3"
      },
      "execution_count": null,
      "outputs": [
        {
          "output_type": "stream",
          "name": "stdout",
          "text": [
            "나이브 베이즈 정확도: 0.6731967943009796\n",
            "CNB 정확도: 0.7707034728406055\n"
          ]
        },
        {
          "output_type": "stream",
          "name": "stderr",
          "text": [
            "/usr/local/lib/python3.7/dist-packages/sklearn/linear_model/_logistic.py:818: ConvergenceWarning: lbfgs failed to converge (status=1):\n",
            "STOP: TOTAL NO. of ITERATIONS REACHED LIMIT.\n",
            "\n",
            "Increase the number of iterations (max_iter) or scale the data as shown in:\n",
            "    https://scikit-learn.org/stable/modules/preprocessing.html\n",
            "Please also refer to the documentation for alternative solver options:\n",
            "    https://scikit-learn.org/stable/modules/linear_model.html#logistic-regression\n",
            "  extra_warning_msg=_LOGISTIC_SOLVER_CONVERGENCE_MSG,\n"
          ]
        },
        {
          "output_type": "stream",
          "name": "stdout",
          "text": [
            "로지스틱 회귀 정확도: 0.8058771148708815\n"
          ]
        },
        {
          "output_type": "stream",
          "name": "stderr",
          "text": [
            "/usr/local/lib/python3.7/dist-packages/sklearn/svm/_base.py:1208: ConvergenceWarning: Liblinear failed to converge, increase the number of iterations.\n",
            "  ConvergenceWarning,\n"
          ]
        },
        {
          "output_type": "stream",
          "name": "stdout",
          "text": [
            "선형 서포트 벡터 머신 정확도: 0.7756010685663401\n",
            "결정 트리 정확도: 0.6179875333926982\n",
            "랜덤 포레스트 정확도: 0.701246660730187\n",
            "그래디언트 부스팅 트리 정확도: 0.767586821015138\n",
            "보팅 정확도: 0.8161175422974176\n",
            "time : 2155.589465856552\n"
          ]
        }
      ]
    },
    {
      "cell_type": "markdown",
      "source": [
        "### 1-6. 단어 10000개 사용"
      ],
      "metadata": {
        "id": "G0QCaNZtfzHI"
      }
    },
    {
      "cell_type": "code",
      "source": [
        "(x_train_10k, y_train_10k), (x_test_10k, y_test_10k) = reuters.load_data(num_words=10000, test_split=0.2)"
      ],
      "metadata": {
        "id": "lcVtUbxcfzHJ"
      },
      "execution_count": null,
      "outputs": []
    },
    {
      "cell_type": "markdown",
      "source": [
        "#### 훈련용 뉴스 데이터와 전체 테스트용 뉴스 데이터를 텍스트 데이터로 변환"
      ],
      "metadata": {
        "id": "MBxFri-FfzHJ"
      }
    },
    {
      "cell_type": "code",
      "source": [
        "decoded = []\n",
        "for i in range(len(x_train)):\n",
        "    t = ' '.join([index_to_word[index] for index in x_train_10k[i]])\n",
        "    decoded.append(t)\n",
        "\n",
        "x_train_10k = decoded\n",
        "print(len(x_train_10k))"
      ],
      "metadata": {
        "colab": {
          "base_uri": "https://localhost:8080/"
        },
        "outputId": "2f78af0e-d1e0-48f3-d0fe-9d5271ef5a46",
        "id": "sEwEVxKVfzHJ"
      },
      "execution_count": null,
      "outputs": [
        {
          "output_type": "stream",
          "name": "stdout",
          "text": [
            "8982\n"
          ]
        }
      ]
    },
    {
      "cell_type": "code",
      "source": [
        "decoded = []\n",
        "for i in range(len(x_test)):\n",
        "    t = ' '.join([index_to_word[index] for index in x_test_10k[i]])\n",
        "    decoded.append(t)\n",
        "\n",
        "x_test_10k = decoded\n",
        "print(len(x_test_10k))"
      ],
      "metadata": {
        "colab": {
          "base_uri": "https://localhost:8080/"
        },
        "outputId": "38f1e3bc-6c55-4787-d260-354048d4b9d4",
        "id": "V9xmTMaBfzHJ"
      },
      "execution_count": null,
      "outputs": [
        {
          "output_type": "stream",
          "name": "stdout",
          "text": [
            "2246\n"
          ]
        }
      ]
    },
    {
      "cell_type": "markdown",
      "source": [
        "#### 행렬 변환"
      ],
      "metadata": {
        "id": "KFAom5krfzHJ"
      }
    },
    {
      "cell_type": "markdown",
      "source": [
        "#### DTM을 생성 & 크기 확인"
      ],
      "metadata": {
        "id": "5BqdX-f1fzHJ"
      }
    },
    {
      "cell_type": "code",
      "source": [
        "dtmvector = CountVectorizer()\n",
        "x_train_dtm_10k = dtmvector.fit_transform(x_train_10k)\n",
        "print(x_train_dtm_10k.shape)"
      ],
      "metadata": {
        "colab": {
          "base_uri": "https://localhost:8080/"
        },
        "outputId": "32d0e0d0-55df-4be9-bb37-78e0481168c9",
        "id": "97l8u7JLfzHJ"
      },
      "execution_count": null,
      "outputs": [
        {
          "output_type": "stream",
          "name": "stdout",
          "text": [
            "(8982, 9670)\n"
          ]
        }
      ]
    },
    {
      "cell_type": "markdown",
      "source": [
        "#### TF-IDF 행렬 생성 & 크기 확인"
      ],
      "metadata": {
        "id": "DS1iF14afzHJ"
      }
    },
    {
      "cell_type": "code",
      "source": [
        "tfidf_transformer = TfidfTransformer()\n",
        "tfidfv_10k = tfidf_transformer.fit_transform(x_train_dtm_10k)\n",
        "print(tfidfv_10k.shape)"
      ],
      "metadata": {
        "colab": {
          "base_uri": "https://localhost:8080/"
        },
        "outputId": "d07e4adf-b37f-4d79-cc99-39c340b07a3c",
        "id": "nFX2OVrtfzHJ"
      },
      "execution_count": null,
      "outputs": [
        {
          "output_type": "stream",
          "name": "stdout",
          "text": [
            "(8982, 9670)\n"
          ]
        }
      ]
    },
    {
      "cell_type": "markdown",
      "source": [
        "#### 테스트 데이터를 TF-IDF 행렬로 변환\n",
        "* 테스트 데이터에 대한 정확도를 측정하기 위해서 훈련 데이터와 동일한 전처리 해야함\n",
        "* ```predict()``` 함수를 통해 예측값을 얻어 정확도 측정"
      ],
      "metadata": {
        "id": "edo9UKsofzHK"
      }
    },
    {
      "cell_type": "code",
      "source": [
        "x_test_dtm_10k = dtmvector.transform(x_test_10k) #테스트 데이터를 DTM으로 변환\n",
        "tfidfv_test_10k = tfidf_transformer.transform(x_test_dtm_10k) #DTM을 TF-IDF 행렬로 변환"
      ],
      "metadata": {
        "id": "IEXFqlR-fzHK"
      },
      "execution_count": null,
      "outputs": []
    },
    {
      "cell_type": "markdown",
      "source": [
        ""
      ],
      "metadata": {
        "id": "DJyZAOjDfzHK"
      }
    },
    {
      "cell_type": "code",
      "source": [
        "import time\n",
        "start = time.time() \n",
        "\n",
        "nb_10k, cb_10k, lr_10k, lsvc_10k, tree_10k, forest_10k, grbt_10k, voting_classifier_10k = train_ml(tfidfv_10k, y_train_10k, tfidfv_test_10k, y_test_10k)\n",
        "\n",
        "print(\"time :\", time.time() - start)"
      ],
      "metadata": {
        "colab": {
          "base_uri": "https://localhost:8080/"
        },
        "outputId": "2789c677-d801-440f-bfff-737a513d45c1",
        "id": "Zu9OMVv1fzHK"
      },
      "execution_count": null,
      "outputs": [
        {
          "output_type": "stream",
          "name": "stdout",
          "text": [
            "나이브 베이즈 정확도: 0.6567230632235085\n",
            "CNB 정확도: 0.7707034728406055\n"
          ]
        },
        {
          "output_type": "stream",
          "name": "stderr",
          "text": [
            "/usr/local/lib/python3.7/dist-packages/sklearn/linear_model/_logistic.py:818: ConvergenceWarning: lbfgs failed to converge (status=1):\n",
            "STOP: TOTAL NO. of ITERATIONS REACHED LIMIT.\n",
            "\n",
            "Increase the number of iterations (max_iter) or scale the data as shown in:\n",
            "    https://scikit-learn.org/stable/modules/preprocessing.html\n",
            "Please also refer to the documentation for alternative solver options:\n",
            "    https://scikit-learn.org/stable/modules/linear_model.html#logistic-regression\n",
            "  extra_warning_msg=_LOGISTIC_SOLVER_CONVERGENCE_MSG,\n"
          ]
        },
        {
          "output_type": "stream",
          "name": "stdout",
          "text": [
            "로지스틱 회귀 정확도: 0.8076580587711487\n"
          ]
        },
        {
          "output_type": "stream",
          "name": "stderr",
          "text": [
            "/usr/local/lib/python3.7/dist-packages/sklearn/svm/_base.py:1208: ConvergenceWarning: Liblinear failed to converge, increase the number of iterations.\n",
            "  ConvergenceWarning,\n"
          ]
        },
        {
          "output_type": "stream",
          "name": "stdout",
          "text": [
            "선형 서포트 벡터 머신 정확도: 0.7791629563668745\n",
            "결정 트리 정확도: 0.6202137132680321\n",
            "랜덤 포레스트 정확도: 0.674087266251113\n",
            "그래디언트 부스팅 트리 정확도: 0.7662511130899377\n",
            "보팅 정확도: 0.8116651825467498\n",
            "time : 2220.990444421768\n"
          ]
        }
      ]
    },
    {
      "cell_type": "markdown",
      "source": [
        "#### 정확도 확인"
      ],
      "metadata": {
        "id": "2zlJAvDiDeZ2"
      }
    },
    {
      "cell_type": "code",
      "source": [
        "bayse = [0.5997328584149599, 0.6731967943009796, 0.6567230632235085]\n",
        "cnb = [0.7649154051647373, 0.7707034728406055, 0.7707034728406055]\n",
        "logistic = [0.813446126447017, 0.8058771148708815, 0.8076580587711487]\n",
        "svm = [0.7880676758682101, 0.7756010685663401, 0.7791629563668745]\n",
        "tree = [0.6211041852181657, 0.6179875333926982, 0.6202137132680321]\n",
        "rf = [0.6544968833481746, 0.701246660730187, 0.674087266251113]\n",
        "gbs = [0.7702582368655387, 0.767586821015138, 0.7662511130899377]\n",
        "voting = [0.8187889581478184, 0.8161175422974176, 0.8116651825467498]\n",
        "\n",
        "vocab_size_list = ['whole', '5k', '10k']\n",
        "model_list = [bayse, cnb, logistic, svm, tree, rf, gbs, voting]"
      ],
      "metadata": {
        "id": "YxCe92E033Ml"
      },
      "execution_count": null,
      "outputs": []
    },
    {
      "cell_type": "code",
      "source": [
        "acc_dict = {}\n",
        "for idx, vs in enumerate(vocab_size_list):\n",
        "    acc_list = []\n",
        "    for model in model_list:\n",
        "        acc_list.append(model[idx])\n",
        "    acc_dict[vs] = sum(acc_list)/len(model_list)"
      ],
      "metadata": {
        "id": "08_ntKeX3410"
      },
      "execution_count": null,
      "outputs": []
    },
    {
      "cell_type": "code",
      "source": [
        "acc_dict"
      ],
      "metadata": {
        "colab": {
          "base_uri": "https://localhost:8080/"
        },
        "id": "9C_ZUuDC35-y",
        "outputId": "3e72f66e-1746-4d06-9a73-5dc25f306e61"
      },
      "execution_count": null,
      "outputs": [
        {
          "output_type": "execute_result",
          "data": {
            "text/plain": [
              "{'10k': 0.7358081032947462,\n",
              " '5k': 0.741039626001781,\n",
              " 'whole': 0.7288512911843277}"
            ]
          },
          "metadata": {},
          "execution_count": 93
        }
      ]
    },
    {
      "cell_type": "markdown",
      "source": [
        "\n",
        "### 2-6. 딥러닝 모델과 비교해 보기\n"
      ],
      "metadata": {
        "id": "WwF-uvfYEKo_"
      }
    },
    {
      "cell_type": "code",
      "source": [
        "from tensorflow import keras\n",
        "\n",
        "vocab_size = 10000\n",
        "word_vector_dim = 32  \n",
        "\n",
        "model_LSTM = keras.Sequential()\n",
        "model_LSTM.add(keras.layers.Embedding(vocab_size, \n",
        "                                 word_vector_dim))\n",
        "model_LSTM.add(keras.layers.LSTM(32))\n",
        "# model_LSTM.add(keras.layers.Dense(128, activation='relu'))  \n",
        "model_LSTM.add(keras.layers.Dense(num_classes, activation='softmax'))  \n",
        "\n",
        "model_LSTM.summary()"
      ],
      "metadata": {
        "colab": {
          "base_uri": "https://localhost:8080/"
        },
        "id": "hU5rmE2enXWI",
        "outputId": "d902562d-246f-42ca-e7ba-c81495f9757f"
      },
      "execution_count": null,
      "outputs": [
        {
          "output_type": "stream",
          "name": "stdout",
          "text": [
            "Model: \"sequential\"\n",
            "_________________________________________________________________\n",
            " Layer (type)                Output Shape              Param #   \n",
            "=================================================================\n",
            " embedding (Embedding)       (None, None, 32)          320000    \n",
            "                                                                 \n",
            " lstm (LSTM)                 (None, 32)                8320      \n",
            "                                                                 \n",
            " dense (Dense)               (None, 46)                1518      \n",
            "                                                                 \n",
            "=================================================================\n",
            "Total params: 329,838\n",
            "Trainable params: 329,838\n",
            "Non-trainable params: 0\n",
            "_________________________________________________________________\n"
          ]
        }
      ]
    },
    {
      "cell_type": "code",
      "source": [
        "tfidfv_10k.shape, y_train_10k.shape"
      ],
      "metadata": {
        "colab": {
          "base_uri": "https://localhost:8080/"
        },
        "id": "If5DcwpBnb3A",
        "outputId": "b152b0e6-a229-411b-a5ed-3f7e5dc436aa"
      },
      "execution_count": null,
      "outputs": [
        {
          "output_type": "execute_result",
          "data": {
            "text/plain": [
              "((8982, 9670), (8982,))"
            ]
          },
          "metadata": {},
          "execution_count": 95
        }
      ]
    },
    {
      "cell_type": "markdown",
      "source": [
        "#### 학습 데이터 실험\n",
        "**sparse한 행렬을 dense하게 만들기 위해 두가지 변환으로 실험**\n",
        "* toarray() : array로 변환(에러메세지에서 추천하는 방법)\n",
        "* todense() : Return a dense matrix representation of this matrix."
      ],
      "metadata": {
        "id": "iX0I0gFanb9p"
      }
    },
    {
      "cell_type": "code",
      "source": [
        "tfidfv_10k_arr = tfidfv_10k.toarray()\n",
        "tfidfv_10k_dense = tfidfv_10k.todense()"
      ],
      "metadata": {
        "id": "Ejv_CZjJnb9p"
      },
      "execution_count": null,
      "outputs": []
    },
    {
      "cell_type": "code",
      "source": [
        "tfidfv_test_10k_arr = tfidfv_test_10k.toarray()\n",
        "tfidfv_test_10k_dense = tfidfv_test_10k.todense()"
      ],
      "metadata": {
        "id": "5kMF44or7koE"
      },
      "execution_count": null,
      "outputs": []
    },
    {
      "cell_type": "code",
      "source": [
        "es = keras.callbacks.EarlyStopping(monitor='val_loss', mode='min', verbose=1, patience=4)\n",
        "\n",
        "model_LSTM.compile(optimizer='adam',\n",
        "              loss='sparse_categorical_crossentropy',\n",
        "              metrics=['accuracy'])\n",
        "            \n",
        "epochs=20\n",
        "batch_size=64\n",
        "\n",
        "\n",
        "history_LSTM = model_LSTM.fit(tfidfv_10k_arr,\n",
        "                                y_train_10k,\n",
        "                                epochs=epochs,\n",
        "                                batch_size=batch_size,\n",
        "                                callbacks=[es],\n",
        "                                validation_split=0.2,\n",
        "                                verbose=1)"
      ],
      "metadata": {
        "colab": {
          "base_uri": "https://localhost:8080/",
          "height": 408
        },
        "id": "HoVAw6R77rHo",
        "outputId": "a2087150-28f0-40b5-e33f-0e1bbb078b69"
      },
      "execution_count": null,
      "outputs": [
        {
          "output_type": "stream",
          "name": "stdout",
          "text": [
            "Epoch 1/20\n",
            " 28/113 [======>.......................] - ETA: 16:50 - loss: 3.5075 - accuracy: 0.3198"
          ]
        },
        {
          "output_type": "error",
          "ename": "KeyboardInterrupt",
          "evalue": "ignored",
          "traceback": [
            "\u001b[0;31m---------------------------------------------------------------------------\u001b[0m",
            "\u001b[0;31mKeyboardInterrupt\u001b[0m                         Traceback (most recent call last)",
            "\u001b[0;32m<ipython-input-98-abe66d9b43e0>\u001b[0m in \u001b[0;36m<module>\u001b[0;34m()\u001b[0m\n\u001b[1;32m     15\u001b[0m                                 \u001b[0mcallbacks\u001b[0m\u001b[0;34m=\u001b[0m\u001b[0;34m[\u001b[0m\u001b[0mes\u001b[0m\u001b[0;34m]\u001b[0m\u001b[0;34m,\u001b[0m\u001b[0;34m\u001b[0m\u001b[0;34m\u001b[0m\u001b[0m\n\u001b[1;32m     16\u001b[0m                                 \u001b[0mvalidation_split\u001b[0m\u001b[0;34m=\u001b[0m\u001b[0;36m0.2\u001b[0m\u001b[0;34m,\u001b[0m\u001b[0;34m\u001b[0m\u001b[0;34m\u001b[0m\u001b[0m\n\u001b[0;32m---> 17\u001b[0;31m                                 verbose=1)\n\u001b[0m",
            "\u001b[0;32m/usr/local/lib/python3.7/dist-packages/keras/utils/traceback_utils.py\u001b[0m in \u001b[0;36merror_handler\u001b[0;34m(*args, **kwargs)\u001b[0m\n\u001b[1;32m     62\u001b[0m     \u001b[0mfiltered_tb\u001b[0m \u001b[0;34m=\u001b[0m \u001b[0;32mNone\u001b[0m\u001b[0;34m\u001b[0m\u001b[0;34m\u001b[0m\u001b[0m\n\u001b[1;32m     63\u001b[0m     \u001b[0;32mtry\u001b[0m\u001b[0;34m:\u001b[0m\u001b[0;34m\u001b[0m\u001b[0;34m\u001b[0m\u001b[0m\n\u001b[0;32m---> 64\u001b[0;31m       \u001b[0;32mreturn\u001b[0m \u001b[0mfn\u001b[0m\u001b[0;34m(\u001b[0m\u001b[0;34m*\u001b[0m\u001b[0margs\u001b[0m\u001b[0;34m,\u001b[0m \u001b[0;34m**\u001b[0m\u001b[0mkwargs\u001b[0m\u001b[0;34m)\u001b[0m\u001b[0;34m\u001b[0m\u001b[0;34m\u001b[0m\u001b[0m\n\u001b[0m\u001b[1;32m     65\u001b[0m     \u001b[0;32mexcept\u001b[0m \u001b[0mException\u001b[0m \u001b[0;32mas\u001b[0m \u001b[0me\u001b[0m\u001b[0;34m:\u001b[0m  \u001b[0;31m# pylint: disable=broad-except\u001b[0m\u001b[0;34m\u001b[0m\u001b[0;34m\u001b[0m\u001b[0m\n\u001b[1;32m     66\u001b[0m       \u001b[0mfiltered_tb\u001b[0m \u001b[0;34m=\u001b[0m \u001b[0m_process_traceback_frames\u001b[0m\u001b[0;34m(\u001b[0m\u001b[0me\u001b[0m\u001b[0;34m.\u001b[0m\u001b[0m__traceback__\u001b[0m\u001b[0;34m)\u001b[0m\u001b[0;34m\u001b[0m\u001b[0;34m\u001b[0m\u001b[0m\n",
            "\u001b[0;32m/usr/local/lib/python3.7/dist-packages/keras/engine/training.py\u001b[0m in \u001b[0;36mfit\u001b[0;34m(self, x, y, batch_size, epochs, verbose, callbacks, validation_split, validation_data, shuffle, class_weight, sample_weight, initial_epoch, steps_per_epoch, validation_steps, validation_batch_size, validation_freq, max_queue_size, workers, use_multiprocessing)\u001b[0m\n\u001b[1;32m   1382\u001b[0m                 _r=1):\n\u001b[1;32m   1383\u001b[0m               \u001b[0mcallbacks\u001b[0m\u001b[0;34m.\u001b[0m\u001b[0mon_train_batch_begin\u001b[0m\u001b[0;34m(\u001b[0m\u001b[0mstep\u001b[0m\u001b[0;34m)\u001b[0m\u001b[0;34m\u001b[0m\u001b[0;34m\u001b[0m\u001b[0m\n\u001b[0;32m-> 1384\u001b[0;31m               \u001b[0mtmp_logs\u001b[0m \u001b[0;34m=\u001b[0m \u001b[0mself\u001b[0m\u001b[0;34m.\u001b[0m\u001b[0mtrain_function\u001b[0m\u001b[0;34m(\u001b[0m\u001b[0miterator\u001b[0m\u001b[0;34m)\u001b[0m\u001b[0;34m\u001b[0m\u001b[0;34m\u001b[0m\u001b[0m\n\u001b[0m\u001b[1;32m   1385\u001b[0m               \u001b[0;32mif\u001b[0m \u001b[0mdata_handler\u001b[0m\u001b[0;34m.\u001b[0m\u001b[0mshould_sync\u001b[0m\u001b[0;34m:\u001b[0m\u001b[0;34m\u001b[0m\u001b[0;34m\u001b[0m\u001b[0m\n\u001b[1;32m   1386\u001b[0m                 \u001b[0mcontext\u001b[0m\u001b[0;34m.\u001b[0m\u001b[0masync_wait\u001b[0m\u001b[0;34m(\u001b[0m\u001b[0;34m)\u001b[0m\u001b[0;34m\u001b[0m\u001b[0;34m\u001b[0m\u001b[0m\n",
            "\u001b[0;32m/usr/local/lib/python3.7/dist-packages/tensorflow/python/util/traceback_utils.py\u001b[0m in \u001b[0;36merror_handler\u001b[0;34m(*args, **kwargs)\u001b[0m\n\u001b[1;32m    148\u001b[0m     \u001b[0mfiltered_tb\u001b[0m \u001b[0;34m=\u001b[0m \u001b[0;32mNone\u001b[0m\u001b[0;34m\u001b[0m\u001b[0;34m\u001b[0m\u001b[0m\n\u001b[1;32m    149\u001b[0m     \u001b[0;32mtry\u001b[0m\u001b[0;34m:\u001b[0m\u001b[0;34m\u001b[0m\u001b[0;34m\u001b[0m\u001b[0m\n\u001b[0;32m--> 150\u001b[0;31m       \u001b[0;32mreturn\u001b[0m \u001b[0mfn\u001b[0m\u001b[0;34m(\u001b[0m\u001b[0;34m*\u001b[0m\u001b[0margs\u001b[0m\u001b[0;34m,\u001b[0m \u001b[0;34m**\u001b[0m\u001b[0mkwargs\u001b[0m\u001b[0;34m)\u001b[0m\u001b[0;34m\u001b[0m\u001b[0;34m\u001b[0m\u001b[0m\n\u001b[0m\u001b[1;32m    151\u001b[0m     \u001b[0;32mexcept\u001b[0m \u001b[0mException\u001b[0m \u001b[0;32mas\u001b[0m \u001b[0me\u001b[0m\u001b[0;34m:\u001b[0m\u001b[0;34m\u001b[0m\u001b[0;34m\u001b[0m\u001b[0m\n\u001b[1;32m    152\u001b[0m       \u001b[0mfiltered_tb\u001b[0m \u001b[0;34m=\u001b[0m \u001b[0m_process_traceback_frames\u001b[0m\u001b[0;34m(\u001b[0m\u001b[0me\u001b[0m\u001b[0;34m.\u001b[0m\u001b[0m__traceback__\u001b[0m\u001b[0;34m)\u001b[0m\u001b[0;34m\u001b[0m\u001b[0;34m\u001b[0m\u001b[0m\n",
            "\u001b[0;32m/usr/local/lib/python3.7/dist-packages/tensorflow/python/eager/def_function.py\u001b[0m in \u001b[0;36m__call__\u001b[0;34m(self, *args, **kwds)\u001b[0m\n\u001b[1;32m    913\u001b[0m \u001b[0;34m\u001b[0m\u001b[0m\n\u001b[1;32m    914\u001b[0m       \u001b[0;32mwith\u001b[0m \u001b[0mOptionalXlaContext\u001b[0m\u001b[0;34m(\u001b[0m\u001b[0mself\u001b[0m\u001b[0;34m.\u001b[0m\u001b[0m_jit_compile\u001b[0m\u001b[0;34m)\u001b[0m\u001b[0;34m:\u001b[0m\u001b[0;34m\u001b[0m\u001b[0;34m\u001b[0m\u001b[0m\n\u001b[0;32m--> 915\u001b[0;31m         \u001b[0mresult\u001b[0m \u001b[0;34m=\u001b[0m \u001b[0mself\u001b[0m\u001b[0;34m.\u001b[0m\u001b[0m_call\u001b[0m\u001b[0;34m(\u001b[0m\u001b[0;34m*\u001b[0m\u001b[0margs\u001b[0m\u001b[0;34m,\u001b[0m \u001b[0;34m**\u001b[0m\u001b[0mkwds\u001b[0m\u001b[0;34m)\u001b[0m\u001b[0;34m\u001b[0m\u001b[0;34m\u001b[0m\u001b[0m\n\u001b[0m\u001b[1;32m    916\u001b[0m \u001b[0;34m\u001b[0m\u001b[0m\n\u001b[1;32m    917\u001b[0m       \u001b[0mnew_tracing_count\u001b[0m \u001b[0;34m=\u001b[0m \u001b[0mself\u001b[0m\u001b[0;34m.\u001b[0m\u001b[0mexperimental_get_tracing_count\u001b[0m\u001b[0;34m(\u001b[0m\u001b[0;34m)\u001b[0m\u001b[0;34m\u001b[0m\u001b[0;34m\u001b[0m\u001b[0m\n",
            "\u001b[0;32m/usr/local/lib/python3.7/dist-packages/tensorflow/python/eager/def_function.py\u001b[0m in \u001b[0;36m_call\u001b[0;34m(self, *args, **kwds)\u001b[0m\n\u001b[1;32m    945\u001b[0m       \u001b[0;31m# In this case we have created variables on the first call, so we run the\u001b[0m\u001b[0;34m\u001b[0m\u001b[0;34m\u001b[0m\u001b[0;34m\u001b[0m\u001b[0m\n\u001b[1;32m    946\u001b[0m       \u001b[0;31m# defunned version which is guaranteed to never create variables.\u001b[0m\u001b[0;34m\u001b[0m\u001b[0;34m\u001b[0m\u001b[0;34m\u001b[0m\u001b[0m\n\u001b[0;32m--> 947\u001b[0;31m       \u001b[0;32mreturn\u001b[0m \u001b[0mself\u001b[0m\u001b[0;34m.\u001b[0m\u001b[0m_stateless_fn\u001b[0m\u001b[0;34m(\u001b[0m\u001b[0;34m*\u001b[0m\u001b[0margs\u001b[0m\u001b[0;34m,\u001b[0m \u001b[0;34m**\u001b[0m\u001b[0mkwds\u001b[0m\u001b[0;34m)\u001b[0m  \u001b[0;31m# pylint: disable=not-callable\u001b[0m\u001b[0;34m\u001b[0m\u001b[0;34m\u001b[0m\u001b[0m\n\u001b[0m\u001b[1;32m    948\u001b[0m     \u001b[0;32melif\u001b[0m \u001b[0mself\u001b[0m\u001b[0;34m.\u001b[0m\u001b[0m_stateful_fn\u001b[0m \u001b[0;32mis\u001b[0m \u001b[0;32mnot\u001b[0m \u001b[0;32mNone\u001b[0m\u001b[0;34m:\u001b[0m\u001b[0;34m\u001b[0m\u001b[0;34m\u001b[0m\u001b[0m\n\u001b[1;32m    949\u001b[0m       \u001b[0;31m# Release the lock early so that multiple threads can perform the call\u001b[0m\u001b[0;34m\u001b[0m\u001b[0;34m\u001b[0m\u001b[0;34m\u001b[0m\u001b[0m\n",
            "\u001b[0;32m/usr/local/lib/python3.7/dist-packages/tensorflow/python/eager/function.py\u001b[0m in \u001b[0;36m__call__\u001b[0;34m(self, *args, **kwargs)\u001b[0m\n\u001b[1;32m   2955\u001b[0m        filtered_flat_args) = self._maybe_define_function(args, kwargs)\n\u001b[1;32m   2956\u001b[0m     return graph_function._call_flat(\n\u001b[0;32m-> 2957\u001b[0;31m         filtered_flat_args, captured_inputs=graph_function.captured_inputs)  # pylint: disable=protected-access\n\u001b[0m\u001b[1;32m   2958\u001b[0m \u001b[0;34m\u001b[0m\u001b[0m\n\u001b[1;32m   2959\u001b[0m   \u001b[0;34m@\u001b[0m\u001b[0mproperty\u001b[0m\u001b[0;34m\u001b[0m\u001b[0;34m\u001b[0m\u001b[0m\n",
            "\u001b[0;32m/usr/local/lib/python3.7/dist-packages/tensorflow/python/eager/function.py\u001b[0m in \u001b[0;36m_call_flat\u001b[0;34m(self, args, captured_inputs, cancellation_manager)\u001b[0m\n\u001b[1;32m   1852\u001b[0m       \u001b[0;31m# No tape is watching; skip to running the function.\u001b[0m\u001b[0;34m\u001b[0m\u001b[0;34m\u001b[0m\u001b[0;34m\u001b[0m\u001b[0m\n\u001b[1;32m   1853\u001b[0m       return self._build_call_outputs(self._inference_function.call(\n\u001b[0;32m-> 1854\u001b[0;31m           ctx, args, cancellation_manager=cancellation_manager))\n\u001b[0m\u001b[1;32m   1855\u001b[0m     forward_backward = self._select_forward_and_backward_functions(\n\u001b[1;32m   1856\u001b[0m         \u001b[0margs\u001b[0m\u001b[0;34m,\u001b[0m\u001b[0;34m\u001b[0m\u001b[0;34m\u001b[0m\u001b[0m\n",
            "\u001b[0;32m/usr/local/lib/python3.7/dist-packages/tensorflow/python/eager/function.py\u001b[0m in \u001b[0;36mcall\u001b[0;34m(self, ctx, args, cancellation_manager)\u001b[0m\n\u001b[1;32m    502\u001b[0m               \u001b[0minputs\u001b[0m\u001b[0;34m=\u001b[0m\u001b[0margs\u001b[0m\u001b[0;34m,\u001b[0m\u001b[0;34m\u001b[0m\u001b[0;34m\u001b[0m\u001b[0m\n\u001b[1;32m    503\u001b[0m               \u001b[0mattrs\u001b[0m\u001b[0;34m=\u001b[0m\u001b[0mattrs\u001b[0m\u001b[0;34m,\u001b[0m\u001b[0;34m\u001b[0m\u001b[0;34m\u001b[0m\u001b[0m\n\u001b[0;32m--> 504\u001b[0;31m               ctx=ctx)\n\u001b[0m\u001b[1;32m    505\u001b[0m         \u001b[0;32melse\u001b[0m\u001b[0;34m:\u001b[0m\u001b[0;34m\u001b[0m\u001b[0;34m\u001b[0m\u001b[0m\n\u001b[1;32m    506\u001b[0m           outputs = execute.execute_with_cancellation(\n",
            "\u001b[0;32m/usr/local/lib/python3.7/dist-packages/tensorflow/python/eager/execute.py\u001b[0m in \u001b[0;36mquick_execute\u001b[0;34m(op_name, num_outputs, inputs, attrs, ctx, name)\u001b[0m\n\u001b[1;32m     53\u001b[0m     \u001b[0mctx\u001b[0m\u001b[0;34m.\u001b[0m\u001b[0mensure_initialized\u001b[0m\u001b[0;34m(\u001b[0m\u001b[0;34m)\u001b[0m\u001b[0;34m\u001b[0m\u001b[0;34m\u001b[0m\u001b[0m\n\u001b[1;32m     54\u001b[0m     tensors = pywrap_tfe.TFE_Py_Execute(ctx._handle, device_name, op_name,\n\u001b[0;32m---> 55\u001b[0;31m                                         inputs, attrs, num_outputs)\n\u001b[0m\u001b[1;32m     56\u001b[0m   \u001b[0;32mexcept\u001b[0m \u001b[0mcore\u001b[0m\u001b[0;34m.\u001b[0m\u001b[0m_NotOkStatusException\u001b[0m \u001b[0;32mas\u001b[0m \u001b[0me\u001b[0m\u001b[0;34m:\u001b[0m\u001b[0;34m\u001b[0m\u001b[0;34m\u001b[0m\u001b[0m\n\u001b[1;32m     57\u001b[0m     \u001b[0;32mif\u001b[0m \u001b[0mname\u001b[0m \u001b[0;32mis\u001b[0m \u001b[0;32mnot\u001b[0m \u001b[0;32mNone\u001b[0m\u001b[0;34m:\u001b[0m\u001b[0;34m\u001b[0m\u001b[0;34m\u001b[0m\u001b[0m\n",
            "\u001b[0;31mKeyboardInterrupt\u001b[0m: "
          ]
        }
      ]
    },
    {
      "cell_type": "markdown",
      "source": [
        "## 3. 회고\n",
        "\n",
        "### 3-1. 최종 정리\n",
        "* 너무 늦게 시작하게되서 아쉬운 프로젝트였다. 😂 좀 더 시간갖고 찬찬히 살펴보며 딥러닝 모델 비교까지 해봐야겠다. \n",
        "* 단어 개수별로 훈련시키고 다양한 모델을 사용하는게 재미있었다. \n",
        "* 아직까지도 프로젝트 진행이 많이 어렵지만 조금씩 하나씩 알아가는 재미는 느끼고 있으니! 지치지않고 끝까지 해나가는데 목표를 두어야겠다.   \n",
        "* Colab 으로 진행한 첫 Going Deeper!       \n",
        "<br/>\n",
        "<br/>\n",
        "\n",
        "### 3-2. 참고사이트\n",
        "* 문서 단어 행렬(Document-Term Matrix, DTM)   \n",
        "  https://wikidocs.net/24559 \n",
        "\n",
        "* NumPy와 SciPy - .todense()와 .toarray() 사이의 차이점      \n",
        "  https://code-examples.net/ko/q/1d01f37     \n",
        "\n",
        "* 깃허브    \n",
        "  https://github.com/miinkang/AI_Project_AIFFEL/blob/main/%5BGD-04%5DTFIDF_vectorization.ipynb\n",
        "\n",
        "\n",
        "        \n",
        "  \n"
      ],
      "metadata": {
        "id": "qHCVer4q-3eb"
      }
    },
    {
      "cell_type": "code",
      "source": [
        ""
      ],
      "metadata": {
        "id": "iBAGAOgvFkrF"
      },
      "execution_count": null,
      "outputs": []
    }
  ],
  "metadata": {
    "colab": {
      "collapsed_sections": [],
      "name": "[GD_4] Multiclass Classification",
      "provenance": []
    },
    "kernelspec": {
      "display_name": "Python 3 (ipykernel)",
      "language": "python",
      "name": "python3"
    },
    "language_info": {
      "codemirror_mode": {
        "name": "ipython",
        "version": 3
      },
      "file_extension": ".py",
      "mimetype": "text/x-python",
      "name": "python",
      "nbconvert_exporter": "python",
      "pygments_lexer": "ipython3",
      "version": "3.9.7"
    }
  },
  "nbformat": 4,
  "nbformat_minor": 0
}